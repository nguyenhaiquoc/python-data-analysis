{
 "cells": [
  {
   "cell_type": "markdown",
   "metadata": {},
   "source": [
    "Test decimal precise.\n",
    "The root cause of imprecision is that computer hardware stores numbers in base 2 (binary),   \n",
    "which means it cannot represent exact numbers in base 10, such as 0.1234. \n",
    "\n",
    "Note: decimal input should be string, float will cause imprecision by float itself\n",
    "Decimal itsels still has issue, example:  \n",
    "original_one = Decimal('1')  \n",
    "one = Decimal('1') / Decimal('3') * Decimal('3') == Decimal('1')  \n",
    "print(one == original_one) # expected True, return False  \n",
    "\n",
    "**fun fact** althouth float is less precice than decimal, float itself doesn't experience above error.  \n",
    "print(1.0/3.0*3==1) # TRUE"
   ]
  },
  {
   "cell_type": "code",
   "execution_count": 16,
   "metadata": {},
   "outputs": [
    {
     "name": "stdout",
     "output_type": "stream",
     "text": [
      "True\n",
      "0.3\n",
      "0.3\n",
      "False\n",
      "0.3000000000000000166533453694\n",
      "0.299999999999999988897769753748434595763683319091796875\n",
      "0.02\n",
      "True\n",
      "True\n",
      "False\n",
      "True\n"
     ]
    }
   ],
   "source": [
    "# test decimal calculations precision in python\n",
    "# https://stackoverflow.com/questions/588004/is-floating-point-math-broken\n",
    "# https://docs.python.org/3/library/decimal.html\n",
    "\n",
    "from decimal import Decimal\n",
    "\n",
    "# String example\n",
    "a = Decimal('0.1')\n",
    "b = Decimal('0.2')\n",
    "c = Decimal('0.3')\n",
    "\n",
    "print(a + b == c) # True \n",
    "print(a + b) # 0.3\n",
    "print(c) # 0.3\n",
    "\n",
    "# Float example\n",
    "print(Decimal(0.1) + Decimal(0.2) == Decimal(0.3))  # False ==> float precision issue, not Decimal issue, string type is correct above\n",
    "print(Decimal(0.1) + Decimal(0.2))\n",
    "print(Decimal(0.3))\n",
    "\n",
    "\n",
    "ab = Decimal('0.02')\n",
    "print(ab) # 0.02\n",
    "print(ab == a * b) # expected True, return True\n",
    "\n",
    "ten = Decimal('10')\n",
    "thirty = Decimal('30')\n",
    "print(ten/thirty ==  Decimal('1')/  Decimal('3'))  # expected True, return True\n",
    "\n",
    "original_one = Decimal('1')\n",
    "one = Decimal('1') / Decimal('3') * Decimal('3') == Decimal('1')\n",
    "print(one == original_one) # expected True, return Fase\n",
    "\n",
    "print(1.0/3.0*3==1)"
   ]
  }
 ],
 "metadata": {
  "kernelspec": {
   "display_name": "base",
   "language": "python",
   "name": "python3"
  },
  "language_info": {
   "codemirror_mode": {
    "name": "ipython",
    "version": 3
   },
   "file_extension": ".py",
   "mimetype": "text/x-python",
   "name": "python",
   "nbconvert_exporter": "python",
   "pygments_lexer": "ipython3",
   "version": "3.11.7"
  }
 },
 "nbformat": 4,
 "nbformat_minor": 2
}
