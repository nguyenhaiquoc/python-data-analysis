{
 "cells": [
  {
   "cell_type": "markdown",
   "metadata": {},
   "source": [
    "**loc and iloc**\n",
    "loc uses row and **column labels**.\n",
    "iloc uses row and **column indexes**.\n",
    "\n",
    "The main difference is that loc works with labels whereas iloc works with indices."
   ]
  },
  {
   "cell_type": "code",
   "execution_count": 4,
   "metadata": {},
   "outputs": [
    {
     "name": "stdout",
     "output_type": "stream",
     "text": [
      "access using loc\n",
      "   product_code product_group\n",
      "0          4187           PG2\n",
      "1          4195           PG2\n",
      "2          4204           PG2\n",
      "3          4219           PG2\n",
      "4          4718           PG2\n",
      "access using iloc\n",
      "   product_code product_group\n",
      "0          4187           PG2\n",
      "1          4195           PG2\n",
      "2          4204           PG2\n",
      "3          4219           PG2\n"
     ]
    }
   ],
   "source": [
    "import pandas as pd\n",
    "pd.options.display.width = 1000\n",
    "\n",
    "sales = pd.read_csv('sales.csv')\n",
    "print(\"access using loc\")\n",
    "print(sales.loc[:4, [\"product_code\",\"product_group\"]])\n",
    "\n",
    "print(\"access using iloc\")\n",
    "print(sales.iloc[:4, [0, 1]])"
   ]
  },
  {
   "cell_type": "code",
   "execution_count": 5,
   "metadata": {},
   "outputs": [
    {
     "name": "stdout",
     "output_type": "stream",
     "text": [
      "   col_a  col_b  col_c  col_d\n",
      "a      4      9      0      9\n",
      "b      5      4      4      0\n",
      "c      6      8      3      9\n",
      "d      2      9      3      5\n",
      "\n",
      "Select two rows and two columns using loc:\n",
      "   col_a  col_c\n",
      "b      5      4\n",
      "d      2      3\n",
      "\n",
      "Select two rows and two columns using iloc:\n",
      "   col_a  col_c\n",
      "b      5      4\n",
      "d      2      3\n"
     ]
    }
   ],
   "source": [
    "import numpy as np\n",
    "df = pd.DataFrame(\n",
    "  np.random.randint(10, size=(4,4)),\n",
    "  index = [\"a\",\"b\",\"c\",\"d\"],\n",
    "  columns = [\"col_a\",\"col_b\",\"col_c\",\"col_d\"]\n",
    "  )\n",
    "\n",
    "print(df)\n",
    "\n",
    "print(\"\\nSelect two rows and two columns using loc:\")\n",
    "print(df.loc[[\"b\",\"d\"], [\"col_a\",\"col_c\"]])\n",
    "print(\"\\nSelect two rows and two columns using iloc:\")\n",
    "print(df.iloc[[1,3], [0,2]])"
   ]
  },
  {
   "cell_type": "code",
   "execution_count": 11,
   "metadata": {},
   "outputs": [
    {
     "name": "stdout",
     "output_type": "stream",
     "text": [
      "   product_code product_group\n",
      "0          4187           PG2\n",
      "1          4195           PG2\n",
      "2          4204           PG2\n",
      "3          4219           PG2\n",
      "4          4718           PG2\n",
      "   product_code\n",
      "0          4187\n",
      "1          4195\n",
      "2          4204\n",
      "3          4219\n",
      "4          4718\n"
     ]
    }
   ],
   "source": [
    "# select column by name\n",
    "# need to put the column name in a list, even if you are selecting only one column\n",
    "# if not, pandas will return a series instead of a dataframe (incase pass 1 column string)\n",
    "print(sales[['product_code', 'product_group']].head(5))\n",
    "# return dataframe\n",
    "print(sales[[\"product_code\"]].head(5))\n",
    "# return series\n"
   ]
  },
  {
   "cell_type": "code",
   "execution_count": 18,
   "metadata": {},
   "outputs": [
    {
     "data": {
      "text/html": [
       "<div>\n",
       "<style scoped>\n",
       "    .dataframe tbody tr th:only-of-type {\n",
       "        vertical-align: middle;\n",
       "    }\n",
       "\n",
       "    .dataframe tbody tr th {\n",
       "        vertical-align: top;\n",
       "    }\n",
       "\n",
       "    .dataframe thead th {\n",
       "        text-align: right;\n",
       "    }\n",
       "</style>\n",
       "<table border=\"1\" class=\"dataframe\">\n",
       "  <thead>\n",
       "    <tr style=\"text-align: right;\">\n",
       "      <th></th>\n",
       "      <th>product_code</th>\n",
       "      <th>product_group</th>\n",
       "      <th>stock_qty</th>\n",
       "      <th>cost</th>\n",
       "      <th>price</th>\n",
       "      <th>last_week_sales</th>\n",
       "      <th>last_month_sales</th>\n",
       "    </tr>\n",
       "  </thead>\n",
       "  <tbody>\n",
       "    <tr>\n",
       "      <td>0</td>\n",
       "      <td>4187</td>\n",
       "      <td>PG2</td>\n",
       "      <td>498</td>\n",
       "      <td>420.76</td>\n",
       "      <td>569.91</td>\n",
       "      <td>13</td>\n",
       "      <td>58</td>\n",
       "    </tr>\n",
       "    <tr>\n",
       "      <td>1</td>\n",
       "      <td>4195</td>\n",
       "      <td>PG2</td>\n",
       "      <td>473</td>\n",
       "      <td>545.64</td>\n",
       "      <td>712.41</td>\n",
       "      <td>16</td>\n",
       "      <td>58</td>\n",
       "    </tr>\n",
       "    <tr>\n",
       "      <td>2</td>\n",
       "      <td>4204</td>\n",
       "      <td>PG2</td>\n",
       "      <td>968</td>\n",
       "      <td>640.42</td>\n",
       "      <td>854.91</td>\n",
       "      <td>22</td>\n",
       "      <td>88</td>\n",
       "    </tr>\n",
       "    <tr>\n",
       "      <td>3</td>\n",
       "      <td>4219</td>\n",
       "      <td>PG2</td>\n",
       "      <td>241</td>\n",
       "      <td>869.69</td>\n",
       "      <td>1034.55</td>\n",
       "      <td>14</td>\n",
       "      <td>45</td>\n",
       "    </tr>\n",
       "    <tr>\n",
       "      <td>4</td>\n",
       "      <td>4718</td>\n",
       "      <td>PG2</td>\n",
       "      <td>1401</td>\n",
       "      <td>12.54</td>\n",
       "      <td>26.59</td>\n",
       "      <td>50</td>\n",
       "      <td>285</td>\n",
       "    </tr>\n",
       "  </tbody>\n",
       "</table>\n",
       "</div>"
      ],
      "text/plain": [
       "   product_code product_group  stock_qty    cost    price  last_week_sales  last_month_sales\n",
       "0          4187           PG2        498  420.76   569.91               13                58\n",
       "1          4195           PG2        473  545.64   712.41               16                58\n",
       "2          4204           PG2        968  640.42   854.91               22                88\n",
       "3          4219           PG2        241  869.69  1034.55               14                45\n",
       "4          4718           PG2       1401   12.54    26.59               50               285"
      ]
     },
     "execution_count": 18,
     "metadata": {},
     "output_type": "execute_result"
    }
   ],
   "source": [
    "# filter using OR (|) and AND (&)\n",
    "sales_filtered = sales[(sales[\"product_group\"] == \"PG1\") | (sales[\"product_group\"] == \"PG2\")]\n",
    "sales_filtered.head(5)\n",
    "\n",
    "# filter using isin\n",
    "sales_filtered = sales[sales[\"product_group\"].isin([\"PG1\", \"PG2\", \"PG10\"])]\n",
    "sales_filtered.head(5)\n",
    "\n",
    "# filter using not\n",
    "sales_filtered = sales[~sales[\"product_group\"].isin([\"PG1\", \"PG2\", \"PG10\"])]\n",
    "sales_filtered.head(5)\n",
    "\n",
    "# filter using query\n",
    "sales_filtered = sales.query(\"product_group == 'PG1' or product_group == 'PG2'\")\n",
    "sales_filtered.head(5)\n"
   ]
  },
  {
   "cell_type": "markdown",
   "metadata": {},
   "source": [
    "The challenge is to find the number of products that are priced higher than the average product price in the sales data frame. As a hint, keep in mind that you need to use the operations specified with the bullet points above."
   ]
  },
  {
   "cell_type": "code",
   "execution_count": 19,
   "metadata": {},
   "outputs": [
    {
     "data": {
      "text/html": [
       "<div>\n",
       "<style scoped>\n",
       "    .dataframe tbody tr th:only-of-type {\n",
       "        vertical-align: middle;\n",
       "    }\n",
       "\n",
       "    .dataframe tbody tr th {\n",
       "        vertical-align: top;\n",
       "    }\n",
       "\n",
       "    .dataframe thead th {\n",
       "        text-align: right;\n",
       "    }\n",
       "</style>\n",
       "<table border=\"1\" class=\"dataframe\">\n",
       "  <thead>\n",
       "    <tr style=\"text-align: right;\">\n",
       "      <th></th>\n",
       "      <th>product_code</th>\n",
       "      <th>product_group</th>\n",
       "      <th>stock_qty</th>\n",
       "      <th>cost</th>\n",
       "      <th>price</th>\n",
       "      <th>last_week_sales</th>\n",
       "      <th>last_month_sales</th>\n",
       "    </tr>\n",
       "  </thead>\n",
       "  <tbody>\n",
       "    <tr>\n",
       "      <td>0</td>\n",
       "      <td>4187</td>\n",
       "      <td>PG2</td>\n",
       "      <td>498</td>\n",
       "      <td>420.76</td>\n",
       "      <td>569.91</td>\n",
       "      <td>13</td>\n",
       "      <td>58</td>\n",
       "    </tr>\n",
       "    <tr>\n",
       "      <td>1</td>\n",
       "      <td>4195</td>\n",
       "      <td>PG2</td>\n",
       "      <td>473</td>\n",
       "      <td>545.64</td>\n",
       "      <td>712.41</td>\n",
       "      <td>16</td>\n",
       "      <td>58</td>\n",
       "    </tr>\n",
       "    <tr>\n",
       "      <td>2</td>\n",
       "      <td>4204</td>\n",
       "      <td>PG2</td>\n",
       "      <td>968</td>\n",
       "      <td>640.42</td>\n",
       "      <td>854.91</td>\n",
       "      <td>22</td>\n",
       "      <td>88</td>\n",
       "    </tr>\n",
       "    <tr>\n",
       "      <td>3</td>\n",
       "      <td>4219</td>\n",
       "      <td>PG2</td>\n",
       "      <td>241</td>\n",
       "      <td>869.69</td>\n",
       "      <td>1034.55</td>\n",
       "      <td>14</td>\n",
       "      <td>45</td>\n",
       "    </tr>\n",
       "    <tr>\n",
       "      <td>4</td>\n",
       "      <td>4718</td>\n",
       "      <td>PG2</td>\n",
       "      <td>1401</td>\n",
       "      <td>12.54</td>\n",
       "      <td>26.59</td>\n",
       "      <td>50</td>\n",
       "      <td>285</td>\n",
       "    </tr>\n",
       "  </tbody>\n",
       "</table>\n",
       "</div>"
      ],
      "text/plain": [
       "   product_code product_group  stock_qty    cost    price  last_week_sales  last_month_sales\n",
       "0          4187           PG2        498  420.76   569.91               13                58\n",
       "1          4195           PG2        473  545.64   712.41               16                58\n",
       "2          4204           PG2        968  640.42   854.91               22                88\n",
       "3          4219           PG2        241  869.69  1034.55               14                45\n",
       "4          4718           PG2       1401   12.54    26.59               50               285"
      ]
     },
     "execution_count": 19,
     "metadata": {},
     "output_type": "execute_result"
    }
   ],
   "source": [
    "sales.head(5)\n",
    "average_price = sales[\"price\"].mean()\n",
    "sales[\"product_code\"].value_counts"
   ]
  }
 ],
 "metadata": {
  "kernelspec": {
   "display_name": "base",
   "language": "python",
   "name": "python3"
  },
  "language_info": {
   "codemirror_mode": {
    "name": "ipython",
    "version": 3
   },
   "file_extension": ".py",
   "mimetype": "text/x-python",
   "name": "python",
   "nbconvert_exporter": "python",
   "pygments_lexer": "ipython3",
   "version": "3.7.4"
  }
 },
 "nbformat": 4,
 "nbformat_minor": 2
}
