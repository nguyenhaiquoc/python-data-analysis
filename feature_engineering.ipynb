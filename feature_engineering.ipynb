{
 "cells": [
  {
   "cell_type": "markdown",
   "metadata": {},
   "source": [
    "We all know that the machine learning algorithm can only deal with numerical features.  \n",
    "However, in most scenarios, categorical features are prevalent.  \n",
    "For example, a person’s gender, address, product type, weather, and so on are categorical features.   \n",
    "To ensure the machine learning algorithm can use this information (features or fields), we need to transform these categorical features into numerical features. Label encoding is one of the methods used for this transformation."
   ]
  },
  {
   "cell_type": "markdown",
   "metadata": {},
   "source": [
    "The preprocessing module in sklearn provides a useful object/function called LabelEncoder to help label encoding."
   ]
  },
  {
   "cell_type": "code",
   "execution_count": 2,
   "metadata": {},
   "outputs": [
    {
     "name": "stdout",
     "output_type": "stream",
     "text": [
      "The original data\n",
      "['Sun' 'Sun' 'Moon' 'Earth' 'Monn' 'Venus']\n",
      "The transform data using LabelEncoder\n",
      "[3 3 2 0 1 4]\n"
     ]
    }
   ],
   "source": [
    "import sklearn.preprocessing as preprocessing\n",
    "import numpy as np\n",
    "import pandas as pd\n",
    "\n",
    "# use LabelEncoder to transform the categorical data to numerical data\n",
    "targets = np.array([\"Sun\", \"Sun\", \"Moon\", \"Earth\", \"Monn\", \"Venus\"])\n",
    "labelenc = preprocessing.LabelEncoder()\n",
    "labelenc.fit(targets)\n",
    "targets_trans = labelenc.transform(targets)\n",
    "print(\"The original data\")\n",
    "print(targets)\n",
    "print(\"The transform data using LabelEncoder\")\n",
    "print(targets_trans)"
   ]
  },
  {
   "cell_type": "markdown",
   "metadata": {},
   "source": [
    "Pandas can also handle LabelEncoding for category data"
   ]
  },
  {
   "cell_type": "code",
   "execution_count": 5,
   "metadata": {},
   "outputs": [
    {
     "name": "stdout",
     "output_type": "stream",
     "text": [
      "The original types of DataFrame\n",
      "col1    object\n",
      "dtype: object\n",
      "******************************\n",
      "The new types of DataFrame\n",
      "col1    category\n",
      "dtype: object\n",
      "******************************\n",
      "The new column.\n",
      "    col1  col1_label_encoding\n",
      "0    Sun                    3\n",
      "1    Sun                    3\n",
      "2   Moon                    2\n",
      "3  Earth                    0\n",
      "4   Monn                    1\n",
      "5  Venus                    4\n"
     ]
    }
   ],
   "source": [
    "import pandas as pd\n",
    "\n",
    "df = pd.DataFrame({\"col1\": [\"Sun\", \"Sun\", \"Moon\", \"Earth\", \"Monn\", \"Venus\"]})\n",
    "print(\"The original types of DataFrame\")\n",
    "print(df.dtypes)\n",
    "print(\"*\"*30)\n",
    "df[\"col1\"] = df[\"col1\"].astype(\"category\")\n",
    "print(\"The new types of DataFrame\")\n",
    "print(df.dtypes)\n",
    "print(\"*\"*30)\n",
    "df[\"col1_label_encoding\"] = df[\"col1\"].cat.codes\n",
    "print(\"The new column.\")\n",
    "print(df)\n"
   ]
  },
  {
   "cell_type": "markdown",
   "metadata": {},
   "source": [
    "One hot encoding"
   ]
  },
  {
   "cell_type": "code",
   "execution_count": 6,
   "metadata": {},
   "outputs": [
    {
     "name": "stdout",
     "output_type": "stream",
     "text": [
      "The original data\n",
      "['Sun' 'Sun' 'Moon' 'Earth' 'Moon' 'Venus']\n",
      "The transform data using OneHotEncoder\n",
      "[[0. 0. 1. 0.]\n",
      " [0. 0. 1. 0.]\n",
      " [0. 1. 0. 0.]\n",
      " [1. 0. 0. 0.]\n",
      " [0. 1. 0. 0.]\n",
      " [0. 0. 0. 1.]]\n"
     ]
    },
    {
     "name": "stderr",
     "output_type": "stream",
     "text": [
      "c:\\ProgramData\\Anaconda3\\lib\\site-packages\\sklearn\\preprocessing\\_encoders.py:415: FutureWarning: The handling of integer data will change in version 0.22. Currently, the categories are determined based on the range [0, max(values)], while in the future they will be determined based on the unique values.\n",
      "If you want the future behaviour and silence this warning, you can specify \"categories='auto'\".\n",
      "In case you used a LabelEncoder before this OneHotEncoder to convert the categories to integers, then you can now use the OneHotEncoder directly.\n",
      "  warnings.warn(msg, FutureWarning)\n"
     ]
    }
   ],
   "source": [
    "# Scikit\n",
    "import sklearn.preprocessing as preprocessing\n",
    "import numpy as np\n",
    "import pandas as pd\n",
    "\n",
    "targets = np.array([\"Sun\", \"Sun\", \"Moon\", \"Earth\", \"Moon\",\n",
    "                    \"Venus\"])\n",
    "labelEnc = preprocessing.LabelEncoder()\n",
    "new_target = labelEnc.fit_transform(targets)\n",
    "onehotEnc = preprocessing.OneHotEncoder()\n",
    "onehotEnc.fit(new_target.reshape(-1, 1))\n",
    "targets_trans = onehotEnc.transform(new_target.reshape(-1, 1))\n",
    "print(\"The original data\")\n",
    "print(targets)\n",
    "print(\"The transform data using OneHotEncoder\")\n",
    "print(targets_trans.toarray())"
   ]
  },
  {
   "cell_type": "code",
   "execution_count": 7,
   "metadata": {},
   "outputs": [
    {
     "name": "stdout",
     "output_type": "stream",
     "text": [
      "The original data\n",
      "    col1\n",
      "0    Sun\n",
      "1    Sun\n",
      "2   Moon\n",
      "3  Earth\n",
      "4   Moon\n",
      "5  Venus\n",
      "******************************\n",
      "The transform data using get_dummies\n",
      "   Planet_Earth  Planet_Moon  Planet_Sun  Planet_Venus\n",
      "0             0            0           1             0\n",
      "1             0            0           1             0\n",
      "2             0            1           0             0\n",
      "3             1            0           0             0\n",
      "4             0            1           0             0\n",
      "5             0            0           0             1\n"
     ]
    }
   ],
   "source": [
    "# pandas by get_dummies\n",
    "\n",
    "df = pd.DataFrame({\"col1\": [\"Sun\", \"Sun\", \"Moon\", \"Earth\", \"Moon\", \"Venus\"]})\n",
    "print(\"The original data\")\n",
    "print(df)\n",
    "print(\"*\" * 30)\n",
    "df_new = pd.get_dummies(df, columns=[\"col1\"], prefix=\"Planet\")\n",
    "print(\"The transform data using get_dummies\")\n",
    "print(df_new)"
   ]
  },
  {
   "cell_type": "markdown",
   "metadata": {},
   "source": [
    "Count Encoding: good for tree-based models, such as xgboost, but not friendly to the new feature in the test set."
   ]
  },
  {
   "cell_type": "code",
   "execution_count": 8,
   "metadata": {},
   "outputs": [
    {
     "name": "stdout",
     "output_type": "stream",
     "text": [
      "The original dataset\n",
      "    col1\n",
      "0    Sun\n",
      "1    Sun\n",
      "2   Moon\n",
      "3  Earth\n",
      "4   Moon\n",
      "5  Venus\n",
      "******************************\n",
      "The new transformed dataset.\n",
      "    col1  planet_count\n",
      "0    Sun             2\n",
      "1    Sun             2\n",
      "2   Moon             2\n",
      "3  Earth             1\n",
      "4   Moon             2\n",
      "5  Venus             1\n"
     ]
    }
   ],
   "source": [
    "import pandas as pd\n",
    "\n",
    "df = pd.DataFrame({\"col1\": [\"Sun\", \"Sun\", \"Moon\", \"Earth\", \"Moon\", \"Venus\"]})\n",
    "print(\"The original dataset\")\n",
    "print(df)\n",
    "print(\"*\" * 30)\n",
    "df[\"planet_count\"] = df[\"col1\"].map(df[\"col1\"].value_counts().to_dict())\n",
    "print(\"The new transformed dataset.\")\n",
    "print(df)"
   ]
  },
  {
   "cell_type": "markdown",
   "metadata": {},
   "source": [
    "Mean Encoding, mean encoding uses the mean of the target value as a new feature. It’s usually done for classification tasks, particularly a binary classification"
   ]
  },
  {
   "cell_type": "code",
   "execution_count": 9,
   "metadata": {},
   "outputs": [
    {
     "name": "stdout",
     "output_type": "stream",
     "text": [
      "The original dataset\n",
      "   col1  price\n",
      "0   Sun     20\n",
      "1  Moon     30\n",
      "2   Sun     30\n",
      "3  Moon     35\n",
      "4  Moon     40\n",
      "5  Mars     55\n",
      "******************************\n",
      "The new transformed dataset.\n",
      "   col1  price  col1_price_mean\n",
      "0   Sun     20               25\n",
      "1  Moon     30               35\n",
      "2   Sun     30               25\n",
      "3  Moon     35               35\n",
      "4  Moon     40               35\n",
      "5  Mars     55               55\n"
     ]
    }
   ],
   "source": [
    "import pandas as pd\n",
    "\n",
    "df = pd.DataFrame({\n",
    "    \"col1\": [\"Sun\", \"Moon\", \"Sun\", \"Moon\", \"Moon\", \"Mars\"],\n",
    "    \"price\": [20, 30, 30, 35, 40, 55]\n",
    "})\n",
    "print(\"The original dataset\")\n",
    "print(df)\n",
    "print(\"*\" * 30)\n",
    "d = df.groupby([\"col1\"])[\"price\"].mean().to_dict()\n",
    "df[\"col1_price_mean\"] = df[\"col1\"].map(d)\n",
    "print(\"The new transformed dataset.\")\n",
    "print(df)"
   ]
  },
  {
   "cell_type": "markdown",
   "metadata": {},
   "source": [
    "Weight of Evidence Encoding.  \n",
    "It’s a measure of evidence on one side of an issue compared with the evidence on the other side of the issue.\n"
   ]
  },
  {
   "cell_type": "code",
   "execution_count": 10,
   "metadata": {},
   "outputs": [
    {
     "name": "stdout",
     "output_type": "stream",
     "text": [
      "The original dataset\n",
      "   col1  Target\n",
      "0  Moon     1.0\n",
      "1   Sun     1.0\n",
      "2  Moon     0.0\n",
      "3   Sun     1.0\n",
      "4   Sun     0.0\n",
      "******************************\n",
      "The new transform dataset\n",
      "   col1  Target        p1        p0       woe\n",
      "0  Moon     1.0  0.500000  0.500000  0.000000\n",
      "1   Sun     1.0  0.666667  0.333333  0.693147\n",
      "2  Moon     0.0  0.500000  0.500000  0.000000\n",
      "3   Sun     1.0  0.666667  0.333333  0.693147\n",
      "4   Sun     0.0  0.666667  0.333333  0.693147\n"
     ]
    }
   ],
   "source": [
    "import pandas as pd\n",
    "import numpy as np\n",
    "\n",
    "df = pd.DataFrame({\n",
    "    \"col1\": [\"Moon\", \"Sun\", \"Moon\", \"Sun\", \"Sun\"],\n",
    "    \"Target\": [1, 1, 0, 1, 0]\n",
    "})\n",
    "df[\"Target\"] = df[\"Target\"].astype(\"float64\")\n",
    "print(\"The original dataset\")\n",
    "print(df)\n",
    "print(\"*\" * 30)\n",
    "d = df.groupby([\"col1\"])[\"Target\"].mean().to_dict()\n",
    "df[\"p1\"] = df[\"col1\"].map(d)\n",
    "df[\"p0\"] = 1 - df[\"p1\"]\n",
    "df[\"woe\"] = np.log(df[\"p1\"] / df[\"p0\"])\n",
    "print(\"The new transform dataset\")\n",
    "print(df)"
   ]
  }
 ],
 "metadata": {
  "kernelspec": {
   "display_name": "base",
   "language": "python",
   "name": "python3"
  },
  "language_info": {
   "codemirror_mode": {
    "name": "ipython",
    "version": 3
   },
   "file_extension": ".py",
   "mimetype": "text/x-python",
   "name": "python",
   "nbconvert_exporter": "python",
   "pygments_lexer": "ipython3",
   "version": "3.7.4"
  }
 },
 "nbformat": 4,
 "nbformat_minor": 2
}
