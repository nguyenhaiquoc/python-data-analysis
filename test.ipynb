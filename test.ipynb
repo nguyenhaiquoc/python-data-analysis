{
 "cells": [
  {
   "cell_type": "code",
   "execution_count": 12,
   "metadata": {},
   "outputs": [
    {
     "name": "stdout",
     "output_type": "stream",
     "text": [
      "       Class1 Class2   Class3\n",
      "Rollno      1      2        3\n",
      "Name    Alice    Bob  Charlie\n",
      "series\n",
      "2    3\n",
      "3    4\n",
      "4    5\n",
      "dtype: int64\n",
      "0     2\n",
      "1     4\n",
      "2     6\n",
      "3     8\n",
      "4    10\n",
      "dtype: int64\n",
      "2\n",
      "Class1    2\n",
      "Class2    2\n",
      "Class3    2\n",
      "dtype: int64\n",
      "0    1\n",
      "2    3\n",
      "4    5\n",
      "dtype: int64\n",
      "0    (0.996, 2.333]\n",
      "1    (0.996, 2.333]\n",
      "2    (2.333, 3.667]\n",
      "3      (3.667, 5.0]\n",
      "4      (3.667, 5.0]\n",
      "dtype: category\n",
      "Categories (3, interval[float64]): [(0.996, 2.333] < (2.333, 3.667] < (3.667, 5.0]]\n"
     ]
    }
   ],
   "source": [
    "import pandas as pd\n",
    "Students = {'Class1' : { 'Rollno' : 1 , 'Name' : 'Alice' } , 'Class2' : { 'Rollno' : 2 ,  'Name' : 'Bob'}, 'Class3' : { 'Rollno' : 3 , 'Name' : 'Charlie' }}\n",
    "df = pd.DataFrame(Students)\n",
    "print(df)\n",
    "\n",
    "s = pd.Series([1,2,3,4,5])\n",
    "print(\"series\")\n",
    "print(s[2 : ])\n",
    "s2 = pd.Series([1,2,3,4,5])\n",
    "\n",
    "print(s + s2)\n",
    "\n",
    "print(len(df))\n",
    "\n",
    "print(df.count())\n",
    "\n",
    "print(s[::2])\n",
    "\n",
    "print(pd.cut(s, bins=3))"
   ]
  },
  {
   "cell_type": "code",
   "execution_count": null,
   "metadata": {},
   "outputs": [],
   "source": []
  },
  {
   "cell_type": "code",
   "execution_count": 1,
   "metadata": {},
   "outputs": [
    {
     "name": "stdout",
     "output_type": "stream",
     "text": [
      "     a    b\n",
      "a  1.0  2.0\n",
      "b  2.0  NaN\n",
      "c  NaN  3.0\n"
     ]
    }
   ],
   "source": [
    "import pandas as pd\n",
    "S = {'a': pd.Series(range(1, 3), index = ['a', 'b']),\n",
    "'b': pd.Series(range(2, 4), index = ['a', 'c']),\n",
    "}\n",
    "\n",
    "df = pd.DataFrame(S)\n",
    "print(df)"
   ]
  },
  {
   "cell_type": "code",
   "execution_count": 12,
   "metadata": {},
   "outputs": [
    {
     "name": "stdout",
     "output_type": "stream",
     "text": [
      "pct_change\n",
      "0    NaN\n",
      "1    NaN\n",
      "2    NaN\n",
      "3    3.0\n",
      "4    1.5\n",
      "5    1.0\n",
      "Name: value, dtype: float64\n",
      "df\n",
      "  class  value  pct\n",
      "0     A      1  NaN\n",
      "1     B      2  NaN\n",
      "2     C      3  NaN\n",
      "3     A      4  3.0\n",
      "4     B      5  1.5\n",
      "5     C      6  1.0\n"
     ]
    }
   ],
   "source": [
    "# test create new column using group by\n",
    "import pandas as pd\n",
    "\n",
    "# create a dataframe with column class: A, B, C (6 row) and value 1,2,3,4,5,6\n",
    "df = pd.DataFrame({'class': ['A', 'B', 'C', 'A', 'B', 'C'], 'value': [1, 2, 3, 4, 5, 6]})\n",
    "df[\"pct\"] = df.groupby(\"class\")[\"value\"].pct_change()\n",
    "\n",
    "pct_change = df.groupby(\"class\")[\"value\"].pct_change()\n",
    "print(\"pct_change\")\n",
    "print(pct_change)\n",
    "print(\"df\")\n",
    "print(df)"
   ]
  },
  {
   "cell_type": "code",
   "execution_count": 25,
   "metadata": {},
   "outputs": [
    {
     "name": "stdout",
     "output_type": "stream",
     "text": [
      "gr\n",
      "class\n",
      "A    2.5\n",
      "B    3.5\n",
      "C    4.5\n",
      "Name: value, dtype: float64\n",
      "transformed\n",
      "0    2.5\n",
      "1    3.5\n",
      "2    4.5\n",
      "3    2.5\n",
      "4    3.5\n",
      "5    4.5\n",
      "Name: value, dtype: float64\n"
     ]
    }
   ],
   "source": [
    "# play with transform\n",
    "import pandas as pd\n",
    "import numpy as np\n",
    "df = pd.DataFrame({'class': ['A', 'B', 'C', 'A', 'B', 'C'], 'value': [1, 2, 3, 4, 5, 6]})\n",
    "\n",
    "gr = df.groupby(\"class\")[\"value\"].agg(\"mean\")\n",
    "print(\"gr\")\n",
    "print(gr)\n",
    "\n",
    "transformed = df.groupby(\"class\")[\"value\"].transform(\"mean\")\n",
    "print(\"transformed\")\n",
    "print(transformed)"
   ]
  },
  {
   "cell_type": "code",
   "execution_count": null,
   "metadata": {},
   "outputs": [],
   "source": [
    "# write a function calculate sum of two integer, check if resuilt is overflow or not\n",
    "def add(a, b):\n",
    "    if a > 0 and b > 0 and a + b < 0:\n",
    "        return \"overflow\"\n",
    "    if a < 0 and b < 0 and a + b > 0:\n",
    "        return \"overflow\"\n",
    "    return a + b"
   ]
  }
 ],
 "metadata": {
  "kernelspec": {
   "display_name": "base",
   "language": "python",
   "name": "python3"
  },
  "language_info": {
   "codemirror_mode": {
    "name": "ipython",
    "version": 3
   },
   "file_extension": ".py",
   "mimetype": "text/x-python",
   "name": "python",
   "nbconvert_exporter": "python",
   "pygments_lexer": "ipython3",
   "version": "3.11.7"
  }
 },
 "nbformat": 4,
 "nbformat_minor": 2
}
