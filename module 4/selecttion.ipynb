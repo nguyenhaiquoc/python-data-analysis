{
 "cells": [
  {
   "cell_type": "code",
   "execution_count": 2,
   "metadata": {},
   "outputs": [
    {
     "name": "stdout",
     "output_type": "stream",
     "text": [
      "sample dataframe:\n",
      "        artist country  plays  genre\n",
      "0  The Beatles      UK    150   rock\n",
      "1   Pink Floyd      UK  10000   rock\n",
      "2    Metallica      US    500  metal\n",
      "select artist from UK\n",
      "        artist country  plays genre\n",
      "0  The Beatles      UK    150  rock\n",
      "1   Pink Floyd      UK  10000  rock\n",
      "rock aritsts with more than 200 plays\n",
      "       artist country  plays genre\n",
      "1  Pink Floyd      UK  10000  rock\n",
      "3    Cairokee   Egypt    200  rock\n",
      "4        ACDC      US    250  rock\n",
      "artist who are not from UK\n",
      "      artist country  plays  genre\n",
      "2  Metallica      US    500  metal\n",
      "3   Cairokee   Egypt    200   rock\n",
      "4       ACDC      US    250   rock\n",
      "outside US for inside US but plays < 500\n",
      "        artist country  plays genre\n",
      "0  The Beatles      UK    150  rock\n",
      "1   Pink Floyd      UK  10000  rock\n",
      "3     Cairokee   Egypt    200  rock\n",
      "4         ACDC      US    250  rock\n"
     ]
    }
   ],
   "source": [
    "import pandas as pd\n",
    "pd.options.display.width = 1000\n",
    "\n",
    "\n",
    "df = pd.read_csv('music.csv')\n",
    "print(\"sample dataframe:\")\n",
    "print(df.head(3))\n",
    "print(\"select artist from UK\")\n",
    "uk_artists = df[df['country'] == 'UK']\n",
    "print(uk_artists)\n",
    "\n",
    "print(\"rock aritsts with more than 200 plays\")\n",
    "rock = df[(df[\"genre\"] ==\"rock\") & (df[\"plays\"] >= 200)]\n",
    "print(rock)\n",
    "\n",
    "print(\"artist who are not from UK\")\n",
    "not_uk = df[~(df['country'] == 'UK')]\n",
    "print(not_uk)\n",
    "\n",
    "print(\"outside US for inside US but plays < 500\")\n",
    "outside_us = df[(~(df['country'] == 'US')) | ((df['country'] == 'US') & (df['plays'] < 500))]\n",
    "print(outside_us)"
   ]
  },
  {
   "cell_type": "code",
   "execution_count": 3,
   "metadata": {},
   "outputs": [
    {
     "name": "stdout",
     "output_type": "stream",
     "text": [
      "['Pink Floyd', 'Metallica', 'Cairokee', 'ACDC']\n"
     ]
    }
   ],
   "source": [
    "# return: artist outside UK who have > 100 plays\n",
    "# Artists inside the UK who have > 200 plays\n",
    "matches = df[((df['country'] != 'UK') & (df['plays'] > 100)) | ((df['country'] == 'UK') & (df['plays'] > 200))]\n",
    "print(list(matches['artist']))\n"
   ]
  },
  {
   "cell_type": "code",
   "execution_count": 5,
   "metadata": {},
   "outputs": [
    {
     "name": "stdout",
     "output_type": "stream",
     "text": [
      "['The Beatles']\n"
     ]
    }
   ],
   "source": [
    "# list of artist from UK or Finland whose name contains the word The \n",
    "matches = df[((df['country'] == 'UK') | (df['country'] == 'Finland')) & (df['artist'].str.contains('The'))]\n",
    "print(list(matches['artist']))"
   ]
  },
  {
   "cell_type": "code",
   "execution_count": 7,
   "metadata": {},
   "outputs": [
    {
     "name": "stdout",
     "output_type": "stream",
     "text": [
      "['Pink Floyd', 'Metallica', 'Cairokee', 'ACDC']\n"
     ]
    }
   ],
   "source": [
    "# list of artist from UK or Finland, but exclude those who have less than 10000 plays\n",
    "matches = df[~(((df['country'] == 'UK') | (df['country'] == 'Finland')) & (df['plays'] < 10000))]\n",
    "print(list(matches['artist']))"
   ]
  }
 ],
 "metadata": {
  "kernelspec": {
   "display_name": "base",
   "language": "python",
   "name": "python3"
  },
  "language_info": {
   "codemirror_mode": {
    "name": "ipython",
    "version": 3
   },
   "file_extension": ".py",
   "mimetype": "text/x-python",
   "name": "python",
   "nbconvert_exporter": "python",
   "pygments_lexer": "ipython3",
   "version": "3.7.4"
  }
 },
 "nbformat": 4,
 "nbformat_minor": 2
}
