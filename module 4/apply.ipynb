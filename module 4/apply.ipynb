{
 "cells": [
  {
   "cell_type": "code",
   "execution_count": 1,
   "metadata": {},
   "outputs": [
    {
     "name": "stdout",
     "output_type": "stream",
     "text": [
      "        artist country  plays  genre  fans\n",
      "0  The Beatles      UK    150   rock    50\n",
      "1   Pink Floyd      UK  10000   rock  1500\n",
      "2    Metallica      US    500  metal    50\n",
      "after mapping to continents:\n",
      "        artist country  plays  genre  fans      continent\n",
      "0  The Beatles      UK    150   rock    50         Europe\n",
      "1   Pink Floyd      UK  10000   rock  1500         Europe\n",
      "2    Metallica      US    500  metal    50  North America\n"
     ]
    }
   ],
   "source": [
    "import pandas as pd\n",
    "pd.options.display.width = 1000\n",
    "\n",
    "music = pd.read_csv('music.csv')\n",
    "print(music.head(3))\n",
    "\n",
    "continents = {'UK': 'Europe', 'US': 'North America', 'Egypt': 'Africa', 'Finland': 'Europe'}\n",
    "music['continent'] = music['country'].map(continents)\n",
    "print(\"after mapping to continents:\")\n",
    "print(music.head(3))\n"
   ]
  },
  {
   "cell_type": "code",
   "execution_count": 7,
   "metadata": {},
   "outputs": [
    {
     "name": "stdout",
     "output_type": "stream",
     "text": [
      "after adding nickname:\n",
      "        artist country  plays  genre  fans      continent nickname\n",
      "0  The Beatles      UK    150   rock    50         Europe       Th\n",
      "1   Pink Floyd      UK  10000   rock  1500         Europe       Pi\n",
      "2    Metallica      US    500  metal    50  North America       Me\n",
      "{'The Beatles': 'Th', 'Pink Floyd': 'Pi', 'Metallica': 'Me', 'Cairokee': 'Ca', 'ACDC': 'AC', 'The Doors': 'Th', 'Poets of The Fall': 'Po', 'Megadeth': 'Me', 'Iron Maiden': 'Ir', 'Judas Priest': 'Ju'}\n"
     ]
    }
   ],
   "source": [
    "# Your music analyst would like to assign nicknames to each band based on the first two letters of their name. Can you help them with that?\n",
    "# Output: A python dict, mapping the artist names to the first two letters of their names\n",
    "music[\"nickname\"] = music[\"artist\"].str[:2] # or music[\"artist\"].map(lambda x: x[:2])\n",
    "print(\"after adding nickname:\")\n",
    "print(music.head(3))\n",
    "# convert to dict where artist is key and nickname is value\n",
    "nickname_dict = music.set_index(\"artist\")[\"nickname\"].to_dict()\n",
    "print(nickname_dict)"
   ]
  },
  {
   "cell_type": "code",
   "execution_count": 13,
   "metadata": {},
   "outputs": [
    {
     "name": "stdout",
     "output_type": "stream",
     "text": [
      "        artist country  plays  genre  fans\n",
      "0  The Beatles      UK    150   rock    50\n",
      "1   Pink Floyd      UK  10000   rock  1500\n",
      "2    Metallica      US    500  metal    50\n",
      "after adding popular:\n",
      "        artist country  plays  genre  fans       popular\n",
      "0  The Beatles      UK    150   rock    50   not popular\n",
      "1   Pink Floyd      UK  10000   rock  1500  very popular\n",
      "2    Metallica      US    500  metal    50       popular\n",
      "{'The Beatles': 'not popular', 'Pink Floyd': 'very popular', 'Metallica': 'popular', 'Cairokee': 'not popular', 'ACDC': 'not popular', 'The Doors': 'very popular', 'Poets of The Fall': 'not popular', 'Megadeth': 'not popular', 'Iron Maiden': 'very popular', 'Judas Priest': 'very popular'}\n"
     ]
    }
   ],
   "source": [
    "\"\"\"\n",
    "Your music analyst wants to identify which bands are very popular/popular/not popular based on the rules below:\n",
    "\n",
    "A band is very popular if they have greater than 1000 plays OR if they have greater than 50 fans.\n",
    "A band is popular if they don’t meet the above conditions, but have plays greater than or equal to 500.\n",
    "A band is not popular if they don’t meet any of the above conditions.\n",
    "\"\"\"\n",
    "music = pd.read_csv('music.csv')\n",
    "print(music.head(3))\n",
    "\n",
    "def popular_band(row):\n",
    "    if row['plays'] > 1000 or row['fans'] > 50:\n",
    "        return 'very popular'\n",
    "    elif row['plays'] >= 500 :\n",
    "        return 'popular'\n",
    "    else:\n",
    "        return 'not popular'\n",
    "\n",
    "music[\"popular\"] = music.apply(popular_band, axis=1)\n",
    "print(\"after adding popular:\")\n",
    "print(music.head(3))\n",
    "print(music.set_index(\"artist\")[\"popular\"].to_dict())"
   ]
  },
  {
   "cell_type": "code",
   "execution_count": 32,
   "metadata": {},
   "outputs": [
    {
     "name": "stdout",
     "output_type": "stream",
     "text": [
      "        artist country  plays  genre  fans\n",
      "0  The Beatles      UK    150   rock    50\n",
      "1   Pink Floyd      UK  10000   rock  1500\n",
      "2    Metallica      US    500  metal    50\n",
      "            Band US Sales UK Sales Egypt Sales\n",
      "0    The Beatles      10k      20k          5k\n",
      "1  Black Sabbath       3k      15k          3k\n",
      "after converting to number:\n",
      "            Band  US Sales  UK Sales  Egypt Sales\n",
      "0    The Beatles     10000     20000         5000\n",
      "1  Black Sabbath      3000     15000         3000\n",
      "{'US Sales': 10000, 'UK Sales': 20000, 'Egypt Sales': 5000}\n",
      "        artist country  plays  genre  fans\n",
      "0  The Beatles      UK    150   rock    50\n",
      "1   Pink Floyd      UK  10000   rock  1500\n",
      "2    Metallica      US    500  metal    50\n",
      "after converting to number:\n",
      "               US Sales  UK Sales  Egypt Sales\n",
      "Band                                          \n",
      "The Beatles       10000     20000         5000\n",
      "Black Sabbath      3000     15000         3000\n",
      "{'US Sales': 10000, 'UK Sales': 20000, 'Egypt Sales': 5000}\n"
     ]
    }
   ],
   "source": [
    "music = pd.read_csv('music.csv')\n",
    "sales = pd.read_csv('sales.csv')\n",
    "print(music.head(3))\n",
    "print(sales.head(3))\n",
    "\n",
    "def convert_to_number(cell):\n",
    "    return int(cell.replace(\"k\", \"\")) * 1000 if \"k\" in cell else cell \n",
    "\n",
    "# convert_to_number to  US Sales, UK Sales, Egypt Sales columns only\n",
    "sales[\"US Sales\"] = sales[\"US Sales\"].map(convert_to_number)\n",
    "sales[\"UK Sales\"] = sales[\"UK Sales\"].map(convert_to_number)\n",
    "sales[\"Egypt Sales\"] = sales[\"Egypt Sales\"].map(convert_to_number)\n",
    "print(\"after converting to number:\")\n",
    "print(sales.head(3))\n",
    "# find max sales for each US, UK, Egypt sales column, return dict\n",
    "max_sales = sales[[\"US Sales\", \"UK Sales\", \"Egypt Sales\"]].max()\n",
    "print(max_sales.to_dict())\n",
    "\n",
    "sales = pd.read_csv('sales.csv')\n",
    "sales= sales.set_index(\"Band\")\n",
    "print(music.head(3))\n",
    "sales = sales.applymap(convert_to_number)   # apply map will apply the function to each element of the dataframe, instead of each column or row like map\n",
    "print(\"after converting to number:\")\n",
    "print(sales.head(3))\n",
    "print(sales.max().to_dict())"
   ]
  }
 ],
 "metadata": {
  "kernelspec": {
   "display_name": "base",
   "language": "python",
   "name": "python3"
  },
  "language_info": {
   "codemirror_mode": {
    "name": "ipython",
    "version": 3
   },
   "file_extension": ".py",
   "mimetype": "text/x-python",
   "name": "python",
   "nbconvert_exporter": "python",
   "pygments_lexer": "ipython3",
   "version": "3.7.4"
  }
 },
 "nbformat": 4,
 "nbformat_minor": 2
}
