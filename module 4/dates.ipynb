{
 "cells": [
  {
   "cell_type": "code",
   "execution_count": 34,
   "metadata": {},
   "outputs": [
    {
     "name": "stdout",
     "output_type": "stream",
     "text": [
      "date    datetime64[ns]\n",
      "dtype: object\n"
     ]
    }
   ],
   "source": [
    "import pandas as pd\n",
    "pd.options.display.width = 1000\n",
    "\n",
    "dates = pd.read_csv('dates.csv', parse_dates=['date'])\n",
    "\n",
    "print(dates.dtypes)"
   ]
  },
  {
   "cell_type": "code",
   "execution_count": 35,
   "metadata": {},
   "outputs": [
    {
     "name": "stdout",
     "output_type": "stream",
     "text": [
      "4\n",
      "                  date\n",
      "13 2019-09-29 00:44:16\n",
      "38 2019-09-12 05:23:12\n",
      "42 2020-09-25 01:28:19\n",
      "87 2020-09-10 03:37:41\n",
      "4\n",
      "                  date\n",
      "13 2019-09-29 00:44:16\n",
      "38 2019-09-12 05:23:12\n",
      "42 2020-09-25 01:28:19\n",
      "87 2020-09-10 03:37:41\n"
     ]
    }
   ],
   "source": [
    "# number of days in September 2019 and 2020\n",
    "sep = dates.query(\"((date >= '2019-09-01') & (date <= '2019-09-30')) | ((date >= '2020-09-01') & (date <= '2020-09-30'))\")\n",
    "print(sep.shape[0])\n",
    "print(sep)\n",
    "\n",
    "# another way to do it\n",
    "sep = dates[(dates['date'].dt.month == 9) & (dates['date'].dt.year.isin([2019, 2020]))]\n",
    "print(sep.shape[0])\n",
    "print(sep)"
   ]
  },
  {
   "cell_type": "code",
   "execution_count": 36,
   "metadata": {},
   "outputs": [
    {
     "name": "stdout",
     "output_type": "stream",
     "text": [
      "                  date\n",
      "44 2020-03-23 02:40:13\n",
      "46 2020-06-13 03:38:58\n",
      "82 2019-02-25 20:46:01\n",
      "14 2019-12-27 03:37:13\n",
      "34 2019-12-20 21:43:42\n",
      "44\n"
     ]
    }
   ],
   "source": [
    "# Your music analyst would like to know how many concerts were held in the year 2019.\n",
    "print(dates.sample(5))\n",
    "\n",
    "in_year_2019 = dates[dates['date'].dt.year == 2019]\n",
    "print(in_year_2019.shape[0])"
   ]
  },
  {
   "cell_type": "code",
   "execution_count": 37,
   "metadata": {},
   "outputs": [
    {
     "name": "stdout",
     "output_type": "stream",
     "text": [
      "DatetimeIndex(['2019-01-01', '2019-01-08', '2019-01-15', '2019-01-22', '2019-01-29'], dtype='datetime64[ns]', freq='7D')\n",
      "['2019-01-01', '2019-01-08', '2019-01-15', '2019-01-22', '2019-01-29']\n"
     ]
    }
   ],
   "source": [
    "# generate a list of date stating from 1 Jan 2019 to 31 Dec 2019, all seperated by 7 day\n",
    "date_range = pd.date_range(start='2019-01-01', end='2019-12-31', freq='7D')\n",
    "print(date_range[:5])\n",
    "# return list of string representation of the date\n",
    "date_range_str = date_range.strftime('%Y-%m-%d')\n",
    "print(list(date_range_str)[:5])"
   ]
  },
  {
   "cell_type": "code",
   "execution_count": 38,
   "metadata": {},
   "outputs": [
    {
     "name": "stdout",
     "output_type": "stream",
     "text": [
      "         date\n",
      "month        \n",
      "2019-01     3\n",
      "2019-02     3\n",
      "2019-03     1\n",
      "2019-04     4\n",
      "2019-05     3\n",
      "{'2019-01': 3, '2019-02': 3, '2019-03': 1, '2019-04': 4, '2019-05': 3, '2019-06': 5, '2019-07': 2, '2019-08': 7, '2019-09': 2, '2019-10': 6, '2019-11': 2, '2019-12': 6, '2020-01': 2, '2020-02': 4, '2020-03': 6, '2020-04': 5, '2020-05': 2, '2020-06': 5, '2020-07': 8, '2020-08': 5, '2020-09': 2, '2020-10': 5, '2020-11': 3, '2020-12': 4, '2021-01': 2, '2021-02': 3}\n"
     ]
    }
   ],
   "source": [
    "dates[\"month\"] = dates[\"date\"].dt.year.astype(str) + \"-\" + dates[\"date\"].dt.month.astype(str).str.zfill(2)\n",
    "month_group = dates.groupby(\"month\").agg({\"date\": \"count\"})\n",
    "\n",
    "print(month_group.head())\n",
    "\n",
    "# Conver to A dictionary mapping the months to the count of concerts (date column)\n",
    "month_group_dict = month_group.to_dict()['date']\n",
    "print(month_group_dict)"
   ]
  },
  {
   "cell_type": "code",
   "execution_count": 55,
   "metadata": {},
   "outputs": [
    {
     "name": "stdout",
     "output_type": "stream",
     "text": [
      "                  date\n",
      "53 2020-05-16 01:39:59\n",
      "12 2019-07-24 16:56:46\n",
      "37 2021-01-09 03:36:11\n",
      "49 2019-06-19 19:47:10\n",
      "18 2019-08-23 04:53:33\n",
      "shape before resample:  (100, 1)\n",
      "         date  count\n",
      "3  2019-04-30      4\n",
      "9  2019-10-31      6\n",
      "2  2019-03-31      1\n",
      "24 2021-01-31      2\n",
      "22 2020-11-30      3\n",
      "shape after resample:  (26, 2)\n",
      "                  date\n",
      "48 2020-03-18 00:47:43\n",
      "86 2020-02-13 12:39:24\n",
      "11 2020-07-03 01:23:12\n",
      "6  2019-05-02 22:32:50\n",
      "41 2019-06-01 15:33:08\n",
      "shape before resample:  (100, 1)\n",
      "        date  count\n",
      "0 2019-01-31      3\n",
      "1 2019-02-28      3\n",
      "2 2019-03-31      1\n",
      "3 2019-04-30      4\n",
      "4 2019-05-31      3\n"
     ]
    }
   ],
   "source": [
    "# Grouping/Resampling By Month (Difficult), return A dictionary mapping the months to the count of concerts, with the months formatted as YYYY-MM\n",
    "dates = pd.read_csv('dates.csv', parse_dates=['date'])\n",
    "print(dates.sample(5))\n",
    "print(\"shape before resample: \", dates.shape)\n",
    "\n",
    "# resample the data to get the count of concerts for each month\n",
    "dates = dates.set_index('date').resample('M').size().reset_index(name='count')\n",
    "print(dates.sample(5))\n",
    "print(\"shape after resample: \", dates.shape)\n",
    "\n",
    "# can I resample date column, without setting it as index?\n",
    "dates = pd.read_csv('dates.csv', parse_dates=['date'])\n",
    "print(dates.sample(5))\n",
    "print(\"shape before resample: \", dates.shape)\n",
    "re = dates.resample('M', on='date').size().reset_index(name='count')\n",
    "print(re.head())"
   ]
  }
 ],
 "metadata": {
  "kernelspec": {
   "display_name": "base",
   "language": "python",
   "name": "python3"
  },
  "language_info": {
   "codemirror_mode": {
    "name": "ipython",
    "version": 3
   },
   "file_extension": ".py",
   "mimetype": "text/x-python",
   "name": "python",
   "nbconvert_exporter": "python",
   "pygments_lexer": "ipython3",
   "version": "3.7.4"
  }
 },
 "nbformat": 4,
 "nbformat_minor": 2
}
