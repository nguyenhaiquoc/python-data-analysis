{
 "cells": [
  {
   "cell_type": "code",
   "execution_count": 39,
   "metadata": {},
   "outputs": [
    {
     "name": "stdout",
     "output_type": "stream",
     "text": [
      "music sample\n",
      "        artist  country  plays  genre  fans\n",
      "0  The Beatles        1    150   rock    50\n",
      "1   Pink Floyd        1  10000   rock  1500\n",
      "2    Metallica        2    500  metal    50\n",
      "3     Cairokee        3    200   rock    10\n",
      "4         ACDC        2    250   rock    20\n",
      "contries sample\n",
      "   country_id     name\n",
      "0           1       UK\n",
      "1           2       US\n",
      "2           3    Egypt\n",
      "3           4  Finland\n"
     ]
    }
   ],
   "source": [
    "import pandas as pd\n",
    "pd.options.display.width = 1000\n",
    "\n",
    "music = pd.read_csv('music2.csv')\n",
    "print(\"music sample\")\n",
    "print(music.head())\n",
    "\n",
    "contries = pd.read_csv('countries.csv')\n",
    "print(\"contries sample\")\n",
    "print(contries.head())"
   ]
  },
  {
   "cell_type": "code",
   "execution_count": 40,
   "metadata": {},
   "outputs": [
    {
     "name": "stdout",
     "output_type": "stream",
     "text": [
      "         artist  country  plays  genre  fans  country_id name\n",
      "0   The Beatles        1    150   rock    50           1   UK\n",
      "1    Pink Floyd        1  10000   rock  1500           1   UK\n",
      "2   Iron Maiden        1  20000  metal  3500           1   UK\n",
      "3  Judas Priest        1   5000  metal  1000           1   UK\n",
      "4     Metallica        2    500  metal    50           2   US\n",
      "{'Egypt': 200, 'Finland': 250, 'UK': 35150, 'US': 2050}\n"
     ]
    }
   ],
   "source": [
    "# total plays by country\n",
    "# merge country column of music and contry_id column of contries\n",
    "merge = music.merge(contries, left_on=\"country\", right_on=\"country_id\", how='inner')\n",
    "print(merge.head())\n",
    "\n",
    "s = merge.groupby(\"name\")[\"plays\"].sum()\n",
    "print(s.to_dict())"
   ]
  },
  {
   "cell_type": "code",
   "execution_count": 41,
   "metadata": {},
   "outputs": [
    {
     "name": "stdout",
     "output_type": "stream",
     "text": [
      "music sample\n",
      "        artist  country  plays  genre  fans\n",
      "0  The Beatles        1    150   rock    50\n",
      "1   Pink Floyd        1  10000   rock  1500\n",
      "2    Metallica        2    500  metal    50\n",
      "3     Cairokee        3    200   rock    10\n",
      "4         ACDC        2    250   rock    20\n",
      "8500\n"
     ]
    }
   ],
   "source": [
    "music = pd.read_csv('music3.csv')\n",
    "print(\"music sample\")\n",
    "print(music.head())\n",
    "\n",
    "contries = pd.read_csv('countries.csv')\n",
    "\n",
    "merge = music.merge(contries, left_on=\"country\", right_on=\"country_id\", how='left')\n",
    "\n",
    "missing_country = merge[merge[\"country_id\"].isnull()]\n",
    "\n",
    "print(missing_country[\"plays\"].sum())\n"
   ]
  },
  {
   "cell_type": "code",
   "execution_count": 42,
   "metadata": {},
   "outputs": [
    {
     "name": "stdout",
     "output_type": "stream",
     "text": [
      "music1 sample\n",
      "        artist  country  plays  genre  fans\n",
      "0  The Beatles        1    150   rock    50\n",
      "1   Pink Floyd        1  10000   rock  1500\n",
      "2    Metallica        2    500  metal    50\n",
      "3     Cairokee        3    200   rock    10\n",
      "4         ACDC        2    250   rock    20\n",
      "music2 sample\n",
      "        artist  country  plays  genre  fans\n",
      "0      Leprous        5   1000  metal   500\n",
      "1         ABBA        5   2000    pop   100\n",
      "2  Bryan Adams        6   2500    pop   200\n",
      "3         Rush        6   3000   rock   500\n",
      "concat sample\n",
      "        artist  country  plays  genre  fans\n",
      "8  Iron Maiden        1  20000  metal  3500\n",
      "7     Megadeth        2    300  metal    20\n",
      "46150\n"
     ]
    },
    {
     "data": {
      "text/plain": [
       "\"\\n# try to concat 2 frame wihc have different shape to see what happne?\\ndf_1 = pd.DataFrame({'A': ['A0', 'A1', 'A2'],\\n                        'B': ['B0', 'B1', 'B2'],\\n                        'C': ['C0', 'C1', 'C2'],\\n                        'D': ['D0', 'D1', 'D2']},\\n                        index=[0, 1, 2])\\ndf_2 = pd.DataFrame({'A': ['A3', 'A4', 'A5'],\\n                        'B': ['B3', 'B4', 'B5'],\\n                        'C': ['C3', 'C4', 'C5']},\\n                        index=[3, 4, 5])\\npd.concat([df_1, df_2])\\n\""
      ]
     },
     "execution_count": 42,
     "metadata": {},
     "output_type": "execute_result"
    }
   ],
   "source": [
    "# vertical concat\n",
    "music1 = pd.read_csv('music2.csv')\n",
    "music2 = pd.read_csv('music5.csv')\n",
    "print(\"music1 sample\")\n",
    "print(music1.head())\n",
    "print(\"music2 sample\")\n",
    "print(music2.head())\n",
    "\n",
    "concat = pd.concat([music1, music2])\n",
    "print(\"concat sample\")\n",
    "print(concat.sample(2))\n",
    "print(concat[\"plays\"].sum())\n",
    "\n",
    "\"\"\"\n",
    "# try to concat 2 frame wihc have different shape to see what happne?\n",
    "df_1 = pd.DataFrame({'A': ['A0', 'A1', 'A2'],\n",
    "                        'B': ['B0', 'B1', 'B2'],\n",
    "                        'C': ['C0', 'C1', 'C2'],\n",
    "                        'D': ['D0', 'D1', 'D2']},\n",
    "                        index=[0, 1, 2])\n",
    "df_2 = pd.DataFrame({'A': ['A3', 'A4', 'A5'],\n",
    "                        'B': ['B3', 'B4', 'B5'],\n",
    "                        'C': ['C3', 'C4', 'C5']},\n",
    "                        index=[3, 4, 5])\n",
    "pd.concat([df_1, df_2])\n",
    "\"\"\""
   ]
  },
  {
   "cell_type": "code",
   "execution_count": 52,
   "metadata": {},
   "outputs": [
    {
     "name": "stdout",
     "output_type": "stream",
     "text": [
      "df sample\n",
      "        artist  country  plays  genre  fans\n",
      "0      Leprous        5   1000  metal   500\n",
      "1         ABBA        5   2000    pop   100\n",
      "2  Bryan Adams        6   2500    pop   200\n",
      "3         Rush        6   3000   rock   500\n",
      "df_monthly sample\n",
      "        artist  monthly_listeners\n",
      "0      Leprous                300\n",
      "1         ABBA                 20\n",
      "2  Bryan Adams                 40\n",
      "3         Rush                280\n",
      "concat sample\n",
      "    artist  country  plays  genre  fans   artist  monthly_listeners\n",
      "0  Leprous        5   1000  metal   500  Leprous                300\n",
      "1     ABBA        5   2000    pop   100     ABBA                 20\n",
      "concat sample after set index\n",
      "             country  plays genre  fans  monthly_listeners\n",
      "artist                                                    \n",
      "Bryan Adams        6   2500   pop   200                 40\n",
      "Rush               6   3000  rock   500                280\n",
      "['Leprous', 'Rush']\n"
     ]
    }
   ],
   "source": [
    "df = pd.read_csv('music7.csv')\n",
    "df_monthly = pd.read_csv('music_monthly.csv')\n",
    "print(\"df sample\")\n",
    "print(df.head())\n",
    "print(\"df_monthly sample\")\n",
    "print(df_monthly.head())\n",
    "concat = pd.concat([df, df_monthly], axis=1)\n",
    "print(\"concat sample\")\n",
    "print(concat.sample(2))\n",
    "\n",
    "df = df.set_index('artist')\n",
    "df_monthly = df_monthly.set_index('artist')\n",
    "concat = pd.concat([df, df_monthly], axis=1)\n",
    "print(\"concat sample after set index\")\n",
    "print(concat.sample(2))\n",
    "\n",
    "concat[\"ratio\"] = concat[\"monthly_listeners\"] / concat[\"fans\"]\n",
    "concat=concat[concat[\"ratio\"] >= 0.5]\n",
    "print(list(concat.index.values))"
   ]
  },
  {
   "cell_type": "code",
   "execution_count": 55,
   "metadata": {},
   "outputs": [
    {
     "name": "stdout",
     "output_type": "stream",
     "text": [
      "df sample\n",
      "   A  B   C\n",
      "0  1  5   9\n",
      "1  2  6  10\n",
      "2  3  7  11\n",
      "3  4  8  12\n",
      "4    1\n",
      "3    1\n",
      "2    1\n",
      "1    1\n",
      "Name: A, dtype: int64\n",
      "4    0.25\n",
      "3    0.25\n",
      "2    0.25\n",
      "1    0.25\n",
      "Name: A, dtype: float64\n",
      "              A         B          C\n",
      "count  4.000000  4.000000   4.000000\n",
      "mean   2.500000  6.500000  10.500000\n",
      "std    1.290994  1.290994   1.290994\n",
      "min    1.000000  5.000000   9.000000\n",
      "25%    1.750000  5.750000   9.750000\n",
      "50%    2.500000  6.500000  10.500000\n",
      "75%    3.250000  7.250000  11.250000\n",
      "max    4.000000  8.000000  12.000000\n"
     ]
    }
   ],
   "source": [
    "# generate a random dataframe\n",
    "df = pd.DataFrame({'A': [1, 2, 3, 4],\n",
    "                     'B': [5, 6, 7, 8],\n",
    "                     'C': [9, 10, 11, 12]},\n",
    "                     index=[0, 1, 2, 3])\n",
    "print(\"df sample\")\n",
    "print(df.head())\n",
    "print(df[\"A\"].value_counts())\n",
    "print(df[\"A\"].value_counts(normalize=True))\n",
    "print(df.describe())"
   ]
  }
 ],
 "metadata": {
  "kernelspec": {
   "display_name": "base",
   "language": "python",
   "name": "python3"
  },
  "language_info": {
   "codemirror_mode": {
    "name": "ipython",
    "version": 3
   },
   "file_extension": ".py",
   "mimetype": "text/x-python",
   "name": "python",
   "nbconvert_exporter": "python",
   "pygments_lexer": "ipython3",
   "version": "3.7.4"
  }
 },
 "nbformat": 4,
 "nbformat_minor": 2
}
