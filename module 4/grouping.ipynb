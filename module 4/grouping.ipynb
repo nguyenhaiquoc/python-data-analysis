{
 "cells": [
  {
   "cell_type": "code",
   "execution_count": 47,
   "metadata": {},
   "outputs": [
    {
     "name": "stdout",
     "output_type": "stream",
     "text": [
      "        artist country  plays  genre  fans\n",
      "0  The Beatles      UK    150   rock    50\n",
      "1   Pink Floyd      UK  10000   rock  1500\n",
      "2    Metallica      US    500  metal    50\n",
      "3     Cairokee   Egypt    200   rock    10\n",
      "4         ACDC      US    250   rock    20\n"
     ]
    }
   ],
   "source": [
    "import pandas as pd\n",
    "pd.options.display.width = 1000\n",
    "\n",
    "df= pd.read_csv('music.csv')\n",
    "print(df.head())"
   ]
  },
  {
   "cell_type": "code",
   "execution_count": 48,
   "metadata": {},
   "outputs": [
    {
     "name": "stdout",
     "output_type": "stream",
     "text": [
      "<class 'pandas.core.series.Series'>\n",
      "country\n",
      "Egypt        200\n",
      "Finland      250\n",
      "UK         35150\n",
      "US          2050\n",
      "Name: plays, dtype: int64\n",
      "{'Egypt': 200, 'Finland': 250, 'UK': 35150, 'US': 2050}\n"
     ]
    }
   ],
   "source": [
    "# return total number of plays for each country in dict format\n",
    "country_stat = df.groupby('country').sum()[\"plays\"]\n",
    "print(type(country_stat))\n",
    "print(country_stat)\n",
    "# convert to dict\n",
    "print(country_stat.to_dict())"
   ]
  },
  {
   "cell_type": "code",
   "execution_count": 49,
   "metadata": {},
   "outputs": [
    {
     "name": "stdout",
     "output_type": "stream",
     "text": [
      "<class 'pandas.core.series.Series'>\n",
      "country  genre\n",
      "Egypt    rock       200\n",
      "Finland  rock       250\n",
      "UK       metal    25000\n",
      "         rock     10150\n",
      "US       metal      800\n",
      "         rock      1250\n",
      "Name: plays, dtype: int64\n",
      "{('Egypt', 'rock'): 200, ('Finland', 'rock'): 250, ('UK', 'metal'): 25000, ('UK', 'rock'): 10150, ('US', 'metal'): 800, ('US', 'rock'): 1250}\n"
     ]
    }
   ],
   "source": [
    "# return total number of plays for each country and genre in dict format\n",
    "country_stat = df.groupby(['country', 'genre']).sum()[\"plays\"]\n",
    "print(type(country_stat))\n",
    "print(country_stat)\n",
    "# convert to dict\n",
    "print(country_stat.to_dict())"
   ]
  },
  {
   "cell_type": "code",
   "execution_count": 50,
   "metadata": {},
   "outputs": [
    {
     "name": "stdout",
     "output_type": "stream",
     "text": [
      "<class 'pandas.core.series.Series'>\n",
      "country\n",
      "UK    35150\n",
      "US     2050\n",
      "Name: plays, dtype: int64\n",
      "use reset index\n",
      "<class 'pandas.core.frame.DataFrame'>\n",
      "  country  plays\n",
      "0      UK  35150\n",
      "1      US   2050\n",
      "['UK', 'US']\n"
     ]
    }
   ],
   "source": [
    "# In this challenge, you'll filter the resulting groups of the music dataset to find countries with the sum of artists' plays greater than 1000.\n",
    "country_stat = df.groupby(['country']).sum()[\"plays\"]\n",
    "# country_stat = country_stat[country_stat[\"plays\"] > 1000]\n",
    "country_stat = country_stat[country_stat > 1000]\n",
    "print(type(country_stat))\n",
    "print(country_stat)\n",
    "\n",
    "print(\"use reset index\")\n",
    "country_stat = country_stat.reset_index() # make country (group by column) as column and use default index 0,1,2 ...\n",
    "print(type(country_stat))\n",
    "print(country_stat)\n",
    "# convert index to list\n",
    "print(list(country_stat.country))"
   ]
  },
  {
   "cell_type": "code",
   "execution_count": 51,
   "metadata": {},
   "outputs": [
    {
     "name": "stdout",
     "output_type": "stream",
     "text": [
      "        artist country  plays  genre  fans\n",
      "0  The Beatles      UK    150   rock    50\n",
      "1   Pink Floyd      UK  10000   rock  1500\n",
      "2    Metallica      US    500  metal    50\n",
      "3     Cairokee   Egypt    200   rock    10\n",
      "4         ACDC      US    250   rock    20\n",
      "<class 'pandas.core.frame.DataFrame'>\n",
      "         plays  fans\n",
      "country             \n",
      "Egypt      200    10\n",
      "Finland    250    10\n",
      "reset index\n",
      "   country  plays  fans\n",
      "0    Egypt    200    10\n",
      "1  Finland    250    10\n",
      "   country  plays  fans  ratio\n",
      "0    Egypt    200    10   20.0\n",
      "1  Finland    250    10   25.0\n",
      "{'Egypt': 20.0, 'Finland': 25.0, 'UK': 5.809917355371901, 'US': 12.058823529411764}\n"
     ]
    },
    {
     "data": {
      "text/plain": [
       "{'Egypt': 20.0,\n",
       " 'Finland': 25.0,\n",
       " 'UK': 5.809917355371901,\n",
       " 'US': 12.058823529411764}"
      ]
     },
     "execution_count": 51,
     "metadata": {},
     "output_type": "execute_result"
    }
   ],
   "source": [
    "# Your music analyst would like to know the ratio of plays/fans (plays per fan) to see how dedicated listeners are to artists\n",
    "print(df.head())\n",
    "\n",
    "country_stat = df.groupby(['country'])[\"plays\", \"fans\"].sum()\n",
    "print(type(country_stat))\n",
    "print(country_stat.head(2))\n",
    "print(\"reset index\")\n",
    "country_stat = country_stat.reset_index()\n",
    "print(country_stat.head(2))\n",
    "country_stat[\"ratio\"] = country_stat[\"plays\"] / country_stat[\"fans\"]\n",
    "print(country_stat.head(2))\n",
    "# convert to dict where country is key and ratio is value\n",
    "print(country_stat.set_index('country')['ratio'].to_dict())\n",
    "\n",
    "# or doing lambla function to have this\n",
    "df.groupby('country').apply(lambda x: x.plays.sum() / x.fans.sum()).to_dict()"
   ]
  },
  {
   "cell_type": "code",
   "execution_count": 61,
   "metadata": {},
   "outputs": [
    {
     "name": "stdout",
     "output_type": "stream",
     "text": [
      "        artist country  plays  genre  fans\n",
      "0  The Beatles      UK    150   rock    50\n",
      "1   Pink Floyd      UK  10000   rock  1500\n",
      "2    Metallica      US    500  metal    50\n",
      "3     Cairokee   Egypt    200   rock    10\n",
      "4         ACDC      US    250   rock    20\n",
      "(10, 5)\n",
      "artist     10\n",
      "country     4\n",
      "plays       9\n",
      "genre       2\n",
      "fans        7\n",
      "dtype: int64\n",
      "         plays_sum  plays_mean  fans_max\n",
      "country                                 \n",
      "Egypt          200       200.0        10\n",
      "Finland        250       250.0        10\n",
      "{'Egypt': {'plays_sum': 200, 'plays_mean': 200.0, 'fans_max': 10}, 'Finland': {'plays_sum': 250, 'plays_mean': 250.0, 'fans_max': 10}, 'UK': {'plays_sum': 35150, 'plays_mean': 8787.5, 'fans_max': 3500}, 'US': {'plays_sum': 2050, 'plays_mean': 512.5, 'fans_max': 80}}\n",
      "         plays_sum  plays_mean  fans_max\n",
      "country                                 \n",
      "Egypt          200       200.0        10\n",
      "Finland        250       250.0        10\n"
     ]
    }
   ],
   "source": [
    "df= pd.read_csv('music.csv')\n",
    "print(df.head())\n",
    "print(df.shape)\n",
    "print(df.nunique())\n",
    "\n",
    "country = df.groupby('country').agg(\n",
    "    plays_sum=('plays', 'sum'),\n",
    "    plays_mean=('plays', 'mean'),\n",
    "    fans_max=('fans', 'max')\n",
    ")\n",
    "print(country.head(2))\n",
    "print(country.to_dict(orient='index'))\n",
    "\n",
    "# another way, depends on pandas version\n",
    "\n",
    "country = df.groupby('country').agg(\n",
    "    {\n",
    "        'plays': ['sum', 'mean'],\n",
    "        'fans': 'max'\n",
    "    }\n",
    ")\n",
    "\n",
    "# flatten the multi-index columns\n",
    "country.columns = ['_'.join(col).strip() for col in country.columns.values]\n",
    "print(country.head(2))"
   ]
  }
 ],
 "metadata": {
  "kernelspec": {
   "display_name": "base",
   "language": "python",
   "name": "python3"
  },
  "language_info": {
   "codemirror_mode": {
    "name": "ipython",
    "version": 3
   },
   "file_extension": ".py",
   "mimetype": "text/x-python",
   "name": "python",
   "nbconvert_exporter": "python",
   "pygments_lexer": "ipython3",
   "version": "3.7.4"
  }
 },
 "nbformat": 4,
 "nbformat_minor": 2
}
