{
 "cells": [
  {
   "cell_type": "markdown",
   "metadata": {},
   "source": [
    "How to use group and access item in the result (multiple index included)"
   ]
  },
  {
   "cell_type": "code",
   "execution_count": 1,
   "metadata": {},
   "outputs": [
    {
     "name": "stdout",
     "output_type": "stream",
     "text": [
      "  class     name  age  score\n",
      "3     A    David   23     83\n",
      "7     B    Helen   27     87\n",
      "2     A  Charlie   27     82\n",
      "type of g_sum: <class 'pandas.core.frame.DataFrame'>\n",
      "       age  score\n",
      "class            \n",
      "A       91    326\n",
      "B      101    342\n",
      "sum of score of class A: 326\n",
      "           score\n",
      "class age       \n",
      "A     20      80\n",
      "      21      81\n",
      "      23      83\n",
      "      27      82\n",
      "B     24      84\n",
      "sum of score of class A and age 20: 80\n"
     ]
    }
   ],
   "source": [
    "import pandas as pd\n",
    "pd.options.display.width = 1000\n",
    "\n",
    "# init a sample meaningful dataframe that have class and student name, age, and score columns\n",
    "df = pd.DataFrame({\n",
    "    'class': ['A', 'A', 'A', 'A', 'B', 'B', 'B', 'B'],\n",
    "    'name': ['Alice', 'Bob', 'Charlie', 'David', 'Eva', 'Frank', 'Grace', 'Helen'],\n",
    "    'age': [20, 21, 27, 23, 24, 25, 25, 27],\n",
    "    'score': [80, 81, 82, 83, 84, 85, 86, 87]\n",
    "})\n",
    "\n",
    "print(df.sample(3))\n",
    "\n",
    "g_sum = df.groupby('class').sum()\n",
    "print(\"type of g_sum:\", type(g_sum))\n",
    "print(g_sum.head())\n",
    "# access the sum of score of class A\n",
    "print(\"sum of score of class A:\", g_sum.loc['A', 'score'])\n",
    "\n",
    "# group by class and age\n",
    "g_sum = df.groupby(['class', 'age']).sum()\n",
    "print(g_sum.head())\n",
    "# access the sum of score of class A and age 20\n",
    "print(\"sum of score of class A and age 20:\", g_sum.loc[('A', 20), 'score'])  # using tuple to access multi-index\n",
    "\n"
   ]
  },
  {
   "cell_type": "markdown",
   "metadata": {},
   "source": [
    "Get the group item"
   ]
  },
  {
   "cell_type": "code",
   "execution_count": 6,
   "metadata": {},
   "outputs": [
    {
     "name": "stdout",
     "output_type": "stream",
     "text": [
      "  class   name  age  score\n",
      "5     B  Frank   25     85\n",
      "6     B  Grace   25     86\n",
      "1     A    Bob   21     81\n",
      "type of grouped: <class 'pandas.core.groupby.generic.DataFrameGroupBy'>\n",
      "type of g: <class 'dict'>\n",
      "{'A': Int64Index([0, 1, 2, 3], dtype='int64'), 'B': Int64Index([4, 5, 6, 7], dtype='int64')}\n",
      "group A:\n",
      "type of group_a: <class 'pandas.core.frame.DataFrame'>\n",
      "  class     name  age  score\n",
      "0     A    Alice   20     80\n",
      "1     A      Bob   21     81\n",
      "2     A  Charlie   27     82\n",
      "3     A    David   23     83\n"
     ]
    }
   ],
   "source": [
    "print(df.sample(3))\n",
    "\n",
    "grouped = df.groupby('class')\n",
    "print(\"type of grouped:\", type(grouped))\n",
    "\n",
    "g= grouped.groups\n",
    "print(\"type of g:\", type(g)) # dict\n",
    "print(g)\n",
    "\n",
    "# get a specific group\n",
    "print(\"group A:\")\n",
    "group_a = grouped.get_group('A')\n",
    "print(\"type of group_a:\", type(group_a)) # dataframe\n",
    "print(grouped.get_group('A')) # all row data that have class = A"
   ]
  },
  {
   "cell_type": "markdown",
   "metadata": {},
   "source": [
    "agg() function accept numpy function name as parameter, it accepts multipe function as well (pass as a list)"
   ]
  },
  {
   "cell_type": "code",
   "execution_count": 3,
   "metadata": {},
   "outputs": [
    {
     "name": "stdout",
     "output_type": "stream",
     "text": [
      "  class   name  age  score\n",
      "0     A  Alice   20     80\n",
      "3     A  David   23     83\n",
      "6     B  Grace   25     86\n",
      "class\n",
      "A    326\n",
      "B    342\n",
      "Name: score, dtype: int64\n",
      "---------------------------------\n",
      "class\n",
      "A    326\n",
      "B    342\n",
      "Name: score, dtype: int64\n",
      "         age           score\n",
      "        mean       std   sum\n",
      "class                       \n",
      "A      22.75  3.095696   326\n",
      "B      25.25  1.258306   342\n"
     ]
    }
   ],
   "source": [
    "import numpy as np\n",
    "print(df.sample(3))\n",
    "\n",
    "g = df.groupby(\"class\")\n",
    "# sum score of each class\n",
    "# method 1, use the agg to sum the price for each group\n",
    "print(g[\"score\"].agg(np.sum))\n",
    "print(\"---------------------------------\")\n",
    "# method 2, use the native function to sum the price for each group\n",
    "print(g.sum()[\"score\"])\n",
    "\n",
    "# multipe aggregation\n",
    "print(g.agg({\n",
    "    \"age\": [np.mean, np.std],\n",
    "    \"score\": np.sum\n",
    "}))"
   ]
  },
  {
   "cell_type": "markdown",
   "metadata": {},
   "source": [
    "nth element. To select the nth item from a DataFrame or Series, use nth().  \n",
    "It’s a very useful function that will return a single row per group if you pass an integer for n.  \n",
    "It’s quite useful if you combine it with the sort() function. For example, you can use this to get the third-highest price products in different groups."
   ]
  },
  {
   "cell_type": "code",
   "execution_count": 4,
   "metadata": {},
   "outputs": [
    {
     "name": "stdout",
     "output_type": "stream",
     "text": [
      "Return the third element from each group\n",
      "type of nth_3: <class 'pandas.core.frame.DataFrame'>\n",
      "        name  age  score\n",
      "class                   \n",
      "A      David   23     83\n",
      "B      Helen   27     87\n"
     ]
    }
   ],
   "source": [
    "g= df.groupby(\"class\")\n",
    "print(\"Return the third element from each group\")\n",
    "nth_3 = g.nth(3)\n",
    "print(\"type of nth_3:\", type(nth_3)) # dataframe\n",
    "print(g.nth(3))\n"
   ]
  },
  {
   "cell_type": "markdown",
   "metadata": {},
   "source": [
    "Iterate the groups\n"
   ]
  },
  {
   "cell_type": "code",
   "execution_count": 5,
   "metadata": {},
   "outputs": [
    {
     "name": "stdout",
     "output_type": "stream",
     "text": [
      "current group is A\n",
      "type of gr: <class 'pandas.core.frame.DataFrame'>\n",
      "the corresponding data under group A\n",
      "------------------------------------\n",
      "  class     name  age  score\n",
      "0     A    Alice   20     80\n",
      "1     A      Bob   21     81\n",
      "2     A  Charlie   27     82\n",
      "3     A    David   23     83\n",
      "------------------------------------\n",
      "current group is B\n",
      "type of gr: <class 'pandas.core.frame.DataFrame'>\n",
      "the corresponding data under group B\n",
      "------------------------------------\n",
      "  class   name  age  score\n",
      "4     B    Eva   24     84\n",
      "5     B  Frank   25     85\n",
      "6     B  Grace   25     86\n",
      "7     B  Helen   27     87\n",
      "------------------------------------\n"
     ]
    }
   ],
   "source": [
    "for name, gr in g:\n",
    "    print(\"current group is {}\".format(name))\n",
    "    print(\"type of gr:\", type(gr)) # dataframe\n",
    "    print(\"the corresponding data under group {}\".format(name))\n",
    "    print(\"------------------------------------\")\n",
    "    print(gr)\n",
    "    print(\"------------------------------------\")"
   ]
  }
 ],
 "metadata": {
  "kernelspec": {
   "display_name": "base",
   "language": "python",
   "name": "python3"
  },
  "language_info": {
   "codemirror_mode": {
    "name": "ipython",
    "version": 3
   },
   "file_extension": ".py",
   "mimetype": "text/x-python",
   "name": "python",
   "nbconvert_exporter": "python",
   "pygments_lexer": "ipython3",
   "version": "3.7.4"
  }
 },
 "nbformat": 4,
 "nbformat_minor": 2
}
