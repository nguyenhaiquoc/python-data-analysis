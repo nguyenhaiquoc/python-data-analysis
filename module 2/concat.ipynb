{
 "cells": [
  {
   "cell_type": "markdown",
   "metadata": {},
   "source": [
    "Concat using append function, append is same as concat on axis=1 (row). Anyway, concat is much more powerful than append and can be applied on column as well"
   ]
  },
  {
   "cell_type": "code",
   "execution_count": 4,
   "metadata": {},
   "outputs": [
    {
     "name": "stdout",
     "output_type": "stream",
     "text": [
      "The first DataFrame\n",
      "   a  b\n",
      "0  1  2\n",
      "1  2  4\n",
      "------------------------\n",
      "The second DataFrame\n",
      "   a  b\n",
      "0  3  6\n",
      "1  4  8\n",
      "------------------------\n",
      "Append the second DataFrame to the first one\n",
      "   a  b\n",
      "0  1  2\n",
      "1  2  4\n",
      "0  3  6\n",
      "1  4  8\n",
      "Append the second DataFrame to the first one and set ignore_index=True\n",
      "   a  b\n",
      "0  1  2\n",
      "1  2  4\n",
      "2  3  6\n",
      "3  4  8\n",
      "4  3  6\n",
      "5  4  8\n"
     ]
    }
   ],
   "source": [
    "import pandas as pd\n",
    "pd.options.display.width = 1000\n",
    "\n",
    "d1 = {\"a\": [1, 2], \"b\": [2, 4]}\n",
    "df1 = pd.DataFrame(d1)\n",
    "print(\"The first DataFrame\")\n",
    "print(df1)\n",
    "print(\"------------------------\")\n",
    "d2 = {\"a\": [3, 4], \"b\": [6, 8]}\n",
    "df2 = pd.DataFrame(d2)\n",
    "print(\"The second DataFrame\")\n",
    "print(df2)\n",
    "df2 = pd.DataFrame(d2)\n",
    "print(\"------------------------\")\n",
    "\n",
    "df1 = df1.append(df2)\n",
    "print(\"Append the second DataFrame to the first one\")\n",
    "print(df1)\n",
    "\n",
    "print(\"Append the second DataFrame to the first one and set ignore_index=True\")\n",
    "df1 = df1.append(df2, ignore_index=True)\n",
    "print(df1)"
   ]
  },
  {
   "cell_type": "markdown",
   "metadata": {},
   "source": [
    "Append with different column"
   ]
  },
  {
   "cell_type": "code",
   "execution_count": 5,
   "metadata": {},
   "outputs": [
    {
     "name": "stdout",
     "output_type": "stream",
     "text": [
      "The first DataFrame\n",
      "   b  c\n",
      "0  1  2\n",
      "1  2  4\n",
      "------------------------\n",
      "The second DataFrame\n",
      "   c  d\n",
      "0  3  6\n",
      "1  4  8\n",
      "------------------------\n",
      "Append the second DataFrame to the first one\n",
      "     b  c    d\n",
      "0  1.0  2  NaN\n",
      "1  2.0  4  NaN\n",
      "0  NaN  3  6.0\n",
      "1  NaN  4  8.0\n"
     ]
    },
    {
     "name": "stderr",
     "output_type": "stream",
     "text": [
      "c:\\ProgramData\\Anaconda3\\lib\\site-packages\\pandas\\core\\frame.py:7123: FutureWarning: Sorting because non-concatenation axis is not aligned. A future version\n",
      "of pandas will change to not sort by default.\n",
      "\n",
      "To accept the future behavior, pass 'sort=False'.\n",
      "\n",
      "To retain the current behavior and silence the warning, pass 'sort=True'.\n",
      "\n",
      "  sort=sort,\n"
     ]
    }
   ],
   "source": [
    "import pandas as pd\n",
    "\n",
    "d1 = {\"b\": [1, 2], \"c\": [2, 4]}\n",
    "df1 = pd.DataFrame(d1)\n",
    "print(\"The first DataFrame\")\n",
    "print(df1)\n",
    "print(\"------------------------\")\n",
    "d2 = {\"c\": [3, 4], \"d\": [6, 8]}\n",
    "df2 = pd.DataFrame(d2)\n",
    "print(\"The second DataFrame\")\n",
    "print(df2)\n",
    "df2 = pd.DataFrame(d2)\n",
    "print(\"------------------------\")\n",
    "\n",
    "df1 = df1.append(df2)\n",
    "print(\"Append the second DataFrame to the first one\")\n",
    "print(df1)"
   ]
  },
  {
   "cell_type": "markdown",
   "metadata": {},
   "source": [
    "concat"
   ]
  },
  {
   "cell_type": "code",
   "execution_count": 8,
   "metadata": {},
   "outputs": [
    {
     "name": "stdout",
     "output_type": "stream",
     "text": [
      "The first DataFrame\n",
      "   a  b\n",
      "1  1  2\n",
      "2  2  4\n",
      "------------------------\n",
      "The second DataFrame\n",
      "   c  d\n",
      "2  3  6\n",
      "3  4  8\n",
      "------------------------\n",
      "The outer join DataFrame\n",
      "     a    b    c    d\n",
      "1  1.0  2.0  NaN  NaN\n",
      "2  2.0  4.0  3.0  6.0\n",
      "3  NaN  NaN  4.0  8.0\n"
     ]
    }
   ],
   "source": [
    "import pandas as pd \n",
    "\n",
    "d1 = {\"a\": [1, 2], \"b\": [2, 4]}\n",
    "df1 = pd.DataFrame(d1, index=[1, 2])\n",
    "print(\"The first DataFrame\")\n",
    "print(df1)\n",
    "print(\"------------------------\")\n",
    "d2 = {\"c\": [3, 4], \"d\": [6, 8]}\n",
    "df2 = pd.DataFrame(d2, index=[2, 3])\n",
    "print(\"The second DataFrame\")\n",
    "print(df2)\n",
    "print(\"------------------------\")\n",
    "print(\"The outer join DataFrame using index\")\n",
    "df3 = pd.concat([df1, df2], axis=1)\n",
    "print(df3)"
   ]
  },
  {
   "cell_type": "code",
   "execution_count": 9,
   "metadata": {},
   "outputs": [
    {
     "name": "stdout",
     "output_type": "stream",
     "text": [
      "The first DataFrame\n",
      "   a  b\n",
      "1  1  2\n",
      "2  2  4\n",
      "------------------------\n",
      "The second DataFrame\n",
      "   c  d\n",
      "2  3  6\n",
      "3  4  8\n",
      "------------------------\n",
      "The inner join DataFrame\n",
      "   a  b  c  d\n",
      "2  2  4  3  6\n"
     ]
    },
    {
     "ename": "",
     "evalue": "",
     "output_type": "error",
     "traceback": [
      "\u001b[1;31mThe Kernel crashed while executing code in the current cell or a previous cell. \n",
      "\u001b[1;31mPlease review the code in the cell(s) to identify a possible cause of the failure. \n",
      "\u001b[1;31mClick <a href='https://aka.ms/vscodeJupyterKernelCrash'>here</a> for more info. \n",
      "\u001b[1;31mView Jupyter <a href='command:jupyter.viewOutput'>log</a> for further details."
     ]
    }
   ],
   "source": [
    "import pandas as pd \n",
    "\n",
    "d1 = {\"a\": [1, 2], \"b\": [2, 4]}\n",
    "df1 = pd.DataFrame(d1, index=[1, 2])\n",
    "print(\"The first DataFrame\")\n",
    "print(df1)\n",
    "print(\"------------------------\")\n",
    "d2 = {\"c\": [3, 4], \"d\": [6, 8]}\n",
    "df2 = pd.DataFrame(d2, index=[2, 3])\n",
    "print(\"The second DataFrame\")\n",
    "print(df2)\n",
    "print(\"------------------------\")\n",
    "print(\"The inner join DataFrame\")\n",
    "df3 = pd.concat([df1, df2], axis=1, join=\"inner\")\n",
    "print(df3)"
   ]
  }
 ],
 "metadata": {
  "kernelspec": {
   "display_name": "base",
   "language": "python",
   "name": "python3"
  },
  "language_info": {
   "codemirror_mode": {
    "name": "ipython",
    "version": 3
   },
   "file_extension": ".py",
   "mimetype": "text/x-python",
   "name": "python",
   "nbconvert_exporter": "python",
   "pygments_lexer": "ipython3",
   "version": "3.7.4"
  }
 },
 "nbformat": 4,
 "nbformat_minor": 2
}
