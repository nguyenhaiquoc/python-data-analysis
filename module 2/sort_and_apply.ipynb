{
 "cells": [
  {
   "cell_type": "markdown",
   "metadata": {},
   "source": [
    "Sort by index, value and nth value"
   ]
  },
  {
   "cell_type": "code",
   "execution_count": 1,
   "metadata": {},
   "outputs": [
    {
     "name": "stdout",
     "output_type": "stream",
     "text": [
      "The original DataFrame is not sorted\n",
      "         c1        c2\n",
      "3 -0.609436 -0.361376\n",
      "1 -0.245097 -0.405069\n",
      "0 -1.270857  0.184730\n",
      "2 -0.921028 -0.198915\n",
      "-------------------------------------\n",
      "The original DataFrame is sorted by index\n",
      "         c1        c2\n",
      "0 -1.270857  0.184730\n",
      "1 -0.245097 -0.405069\n",
      "2 -0.921028 -0.198915\n",
      "3 -0.609436 -0.361376\n",
      "-------------------------------------\n",
      "The original DataFrame is sorted descending by index\n",
      "         c1        c2\n",
      "3 -0.609436 -0.361376\n",
      "2 -0.921028 -0.198915\n",
      "1 -0.245097 -0.405069\n",
      "0 -1.270857  0.184730\n"
     ]
    }
   ],
   "source": [
    "import pandas as pd\n",
    "pd.options.display.width = 1000\n",
    "import numpy as np\n",
    "\n",
    "df = pd.DataFrame(np.random.randn(4,2), index=[3,1,0,2], columns = ['c1','c2'])\n",
    "print(\"The original DataFrame is not sorted\")\n",
    "print(df)\n",
    "print(\"-------------------------------------\")\n",
    "\n",
    "sorted_df = df.sort_index()\n",
    "print(\"The original DataFrame is sorted by index\")\n",
    "print(sorted_df)\n",
    "print(\"-------------------------------------\")\n",
    "\n",
    "print(\"The original DataFrame is sorted descending by index\")\n",
    "sorted_df = df.sort_index(ascending=False)\n",
    "print(sorted_df)"
   ]
  },
  {
   "cell_type": "code",
   "execution_count": 2,
   "metadata": {},
   "outputs": [
    {
     "name": "stdout",
     "output_type": "stream",
     "text": [
      "The original DataFrame is sorted by multiple columns\n",
      "         c1        c2\n",
      "0 -1.270857  0.184730\n",
      "2 -0.921028 -0.198915\n",
      "3 -0.609436 -0.361376\n",
      "1 -0.245097 -0.405069\n"
     ]
    }
   ],
   "source": [
    "# sort by multiple columns\n",
    "print(\"The original DataFrame is sorted by multiple columns\")\n",
    "sorted_df = df.sort_values(by=['c1','c2'])\n",
    "print(sorted_df)"
   ]
  },
  {
   "cell_type": "code",
   "execution_count": 4,
   "metadata": {},
   "outputs": [
    {
     "name": "stdout",
     "output_type": "stream",
     "text": [
      "The 3 largest values in column c1\n",
      "         c1        c2\n",
      "1 -0.245097 -0.405069\n",
      "3 -0.609436 -0.361376\n",
      "2 -0.921028 -0.198915\n"
     ]
    }
   ],
   "source": [
    "# get 3 largest values BASED on column c1\n",
    "print(df)\n",
    "print(\"The 3 largest values in column c1\")\n",
    "sorted_df = df.nlargest(3, 'c1')\n",
    "print(sorted_df)"
   ]
  }
 ],
 "metadata": {
  "kernelspec": {
   "display_name": "base",
   "language": "python",
   "name": "python3"
  },
  "language_info": {
   "codemirror_mode": {
    "name": "ipython",
    "version": 3
   },
   "file_extension": ".py",
   "mimetype": "text/x-python",
   "name": "python",
   "nbconvert_exporter": "python",
   "pygments_lexer": "ipython3",
   "version": "3.7.4"
  }
 },
 "nbformat": 4,
 "nbformat_minor": 2
}
