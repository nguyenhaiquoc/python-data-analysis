{
 "cells": [
  {
   "cell_type": "markdown",
   "metadata": {},
   "source": [
    "Sort by index, value and nth value"
   ]
  },
  {
   "cell_type": "code",
   "execution_count": 15,
   "metadata": {},
   "outputs": [
    {
     "name": "stdout",
     "output_type": "stream",
     "text": [
      "The original DataFrame is not sorted\n",
      "         c1        c2\n",
      "3 -0.402331 -0.706287\n",
      "1  1.224897  2.752433\n",
      "0  1.432855  1.173118\n",
      "2  0.035276 -1.570964\n",
      "-------------------------------------\n",
      "The original DataFrame is sorted by index\n",
      "         c1        c2\n",
      "0  1.432855  1.173118\n",
      "1  1.224897  2.752433\n",
      "2  0.035276 -1.570964\n",
      "3 -0.402331 -0.706287\n",
      "-------------------------------------\n",
      "The original DataFrame is sorted descending by index\n",
      "         c1        c2\n",
      "3 -0.402331 -0.706287\n",
      "2  0.035276 -1.570964\n",
      "1  1.224897  2.752433\n",
      "0  1.432855  1.173118\n",
      "Access first row\n",
      "         c1        c2\n",
      "3 -0.402331 -0.706287\n",
      "<class 'pandas.core.frame.DataFrame'>\n",
      "Access index value of first row\n",
      "[3]\n",
      "Access c1 column of first row\n",
      "3   -0.402331\n",
      "Name: c1, dtype: float64\n"
     ]
    }
   ],
   "source": [
    "import pandas as pd\n",
    "pd.options.display.width = 1000\n",
    "import numpy as np\n",
    "\n",
    "df = pd.DataFrame(np.random.randn(4,2), index=[3,1,0,2], columns = ['c1','c2'])\n",
    "print(\"The original DataFrame is not sorted\")\n",
    "print(df)\n",
    "print(\"-------------------------------------\")\n",
    "\n",
    "sorted_df = df.sort_index()\n",
    "print(\"The original DataFrame is sorted by index\")\n",
    "print(sorted_df)\n",
    "print(\"-------------------------------------\")\n",
    "\n",
    "print(\"The original DataFrame is sorted descending by index\")\n",
    "sorted_df = df.sort_index(ascending=False)\n",
    "print(sorted_df)\n",
    "\n",
    "# access first row\n",
    "print(\"Access first row\")\n",
    "print(df[:1])\n",
    "print(type(df[:1]))\n",
    "# access index value of first row\n",
    "print(\"Access index value of first row\")\n",
    "print(df[:1].index.values)\n",
    "\n",
    "# access c1 column of first row\n",
    "print(\"Access c1 column of first row\")\n",
    "print(df[:1]['c1'])"
   ]
  },
  {
   "cell_type": "code",
   "execution_count": 2,
   "metadata": {},
   "outputs": [
    {
     "name": "stdout",
     "output_type": "stream",
     "text": [
      "The original DataFrame is sorted by multiple columns\n",
      "         c1        c2\n",
      "2 -2.683913 -0.322671\n",
      "1 -1.263823 -0.751876\n",
      "0  0.906307 -0.811958\n",
      "3  2.256119 -0.896606\n"
     ]
    }
   ],
   "source": [
    "# sort by multiple columns\n",
    "print(\"The original DataFrame is sorted by multiple columns\")\n",
    "sorted_df = df.sort_values(by=['c1','c2'])\n",
    "print(sorted_df)"
   ]
  },
  {
   "cell_type": "code",
   "execution_count": 3,
   "metadata": {},
   "outputs": [
    {
     "name": "stdout",
     "output_type": "stream",
     "text": [
      "         c1        c2\n",
      "3  2.256119 -0.896606\n",
      "1 -1.263823 -0.751876\n",
      "0  0.906307 -0.811958\n",
      "2 -2.683913 -0.322671\n",
      "The 3 largest values in column c1\n",
      "         c1        c2\n",
      "3  2.256119 -0.896606\n",
      "0  0.906307 -0.811958\n",
      "1 -1.263823 -0.751876\n"
     ]
    }
   ],
   "source": [
    "# get 3 largest values BASED on column c1\n",
    "print(df)\n",
    "print(\"The 3 largest values in column c1\")\n",
    "sorted_df = df.nlargest(3, 'c1')\n",
    "print(sorted_df)"
   ]
  },
  {
   "cell_type": "markdown",
   "metadata": {},
   "source": [
    "Apply"
   ]
  },
  {
   "cell_type": "code",
   "execution_count": 4,
   "metadata": {},
   "outputs": [
    {
     "name": "stdout",
     "output_type": "stream",
     "text": [
      "The original DataFrame\n",
      "   a  b  c\n",
      "0  1  2  3\n",
      "1  2  3  4\n",
      "2  3  4  5\n",
      "3  4  5  6\n",
      "--------------------------------------\n",
      "A new column \"a_times_two\" is added\n",
      "   a  b  c  a_times_two\n",
      "0  1  2  3            2\n",
      "1  2  3  4            4\n",
      "2  3  4  5            6\n",
      "3  4  5  6            8\n"
     ]
    }
   ],
   "source": [
    "d = {\"a\": [1,2,3,4],\"b\":[2,3,4,5],\"c\":[3,4,5,6]}\n",
    "df = pd.DataFrame(d)\n",
    "print(\"The original DataFrame\")\n",
    "print(df)\n",
    "print(\"--------------------------------------\")\n",
    "df[\"a_times_two\"] = df[\"a\"].apply(lambda s:s*2)\n",
    "print(\"A new column \\\"a_times_two\\\" is added\")\n",
    "print(df)"
   ]
  },
  {
   "cell_type": "code",
   "execution_count": 6,
   "metadata": {},
   "outputs": [
    {
     "name": "stdout",
     "output_type": "stream",
     "text": [
      "A new column \"a_times_two\" is added\n",
      "   a  b  c  a_times_two\n",
      "0  1  2  3            2\n",
      "1  2  3  4            4\n",
      "2  3  4  5            6\n",
      "3  4  5  6            8\n"
     ]
    }
   ],
   "source": [
    "# apply using function\n",
    "def times_two(s):\n",
    "    return s*2\n",
    "df[\"a_times_two\"] = df[\"a\"].apply(times_two)\n",
    "print(\"A new column \\\"a_times_two\\\" is added\")\n",
    "print(df)"
   ]
  },
  {
   "cell_type": "markdown",
   "metadata": {},
   "source": [
    "To do apply on multiple column, need to pass axis=1 ==> entire row will be send to function"
   ]
  },
  {
   "cell_type": "code",
   "execution_count": 7,
   "metadata": {},
   "outputs": [
    {
     "name": "stdout",
     "output_type": "stream",
     "text": [
      "The original DataFrame\n",
      "   a  b  c\n",
      "0  1  2  3\n",
      "1  2  3  4\n",
      "2  3  4  5\n",
      "3  4  5  6\n",
      "--------------------------------------\n",
      "Column a and b can be accessed as attributes\n",
      "A new column \"a_plus_b\" is added\n",
      "   a  b  c  a_plus_b\n",
      "0  1  2  3         3\n",
      "1  2  3  4         5\n",
      "2  3  4  5         7\n",
      "3  4  5  6         9\n"
     ]
    }
   ],
   "source": [
    "d = {\"a\": [1,2,3,4],\"b\":[2,3,4,5],\"c\":[3,4,5,6]}\n",
    "df = pd.DataFrame(d)\n",
    "print(\"The original DataFrame\")\n",
    "print(df)\n",
    "print(\"--------------------------------------\")\n",
    "print(\"Column a and b can be accessed as attributes\")\n",
    "df[\"a_plus_b\"] = df.apply(lambda row:row.a + row.b, axis=1)\n",
    "print(\"A new column \\\"a_plus_b\\\" is added\")\n",
    "print(df)"
   ]
  },
  {
   "cell_type": "code",
   "execution_count": 8,
   "metadata": {},
   "outputs": [
    {
     "name": "stdout",
     "output_type": "stream",
     "text": [
      "A new column \"a_plus_b\" is added\n",
      "   a  b  c  a_plus_b\n",
      "0  1  2  3         3\n",
      "1  2  3  4         5\n",
      "2  3  4  5         7\n",
      "3  4  5  6         9\n"
     ]
    }
   ],
   "source": [
    "# apply using function\n",
    "def add_a_b(row):\n",
    "    return row.a + row.b\n",
    "df[\"a_plus_b\"] = df.apply(add_a_b, axis=1)\n",
    "print(\"A new column \\\"a_plus_b\\\" is added\")\n",
    "print(df)"
   ]
  },
  {
   "cell_type": "code",
   "execution_count": 10,
   "metadata": {},
   "outputs": [
    {
     "name": "stdout",
     "output_type": "stream",
     "text": [
      "A new column \"a_plus_b\" is added\n",
      "   a  b  c  a_plus_b\n",
      "0  1  2  3         3\n",
      "1  2  3  4         5\n",
      "2  3  4  5         7\n",
      "3  4  5  6         9\n"
     ]
    }
   ],
   "source": [
    "# the best way to add a new column is to add column directly\n",
    "df[\"a_plus_b\"] = df[\"a\"] + df[\"b\"]\n",
    "print(\"A new column \\\"a_plus_b\\\" is added\")\n",
    "print(df)\n"
   ]
  }
 ],
 "metadata": {
  "kernelspec": {
   "display_name": "base",
   "language": "python",
   "name": "python3"
  },
  "language_info": {
   "codemirror_mode": {
    "name": "ipython",
    "version": 3
   },
   "file_extension": ".py",
   "mimetype": "text/x-python",
   "name": "python",
   "nbconvert_exporter": "python",
   "pygments_lexer": "ipython3",
   "version": "3.7.4"
  }
 },
 "nbformat": 4,
 "nbformat_minor": 2
}
