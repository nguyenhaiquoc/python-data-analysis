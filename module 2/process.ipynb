{
 "cells": [
  {
   "cell_type": "markdown",
   "metadata": {},
   "source": [
    "Remove duplicate row"
   ]
  },
  {
   "cell_type": "code",
   "execution_count": 3,
   "metadata": {},
   "outputs": [
    {
     "name": "stdout",
     "output_type": "stream",
     "text": [
      "dataframe df:\n",
      "  name  age class\n",
      "0  Tom   11     A\n",
      "1  Gil   12     A\n",
      "2  Tom   11     A\n",
      "3  Tom   10     A\n",
      "  name  age class\n",
      "0  Tom   11     A\n",
      "1  Gil   12     A\n"
     ]
    }
   ],
   "source": [
    "# create dataframe that have several duplicate data in each column name, age, class\n",
    "import pandas as pd\n",
    "pd.options.display.width = 1000\n",
    "\n",
    "# create dataframe that have several duplicate data in each column name, age, class\n",
    "data = {'name': ['Tom', 'Gil', 'Tom', 'Tom'],\n",
    "        'age': [11,12,11,10],\n",
    "        'class': ['A', 'A', 'A', 'A']}\n",
    "df = pd.DataFrame(data)\n",
    "print(\"dataframe df:\")\n",
    "print(df)\n",
    "\n",
    "# remove duplicate rows by name, keep the last one\n",
    "df = df.drop_duplicates(subset=['name'], keep='last')\n",
    "print(df)"
   ]
  }
 ],
 "metadata": {
  "kernelspec": {
   "display_name": "base",
   "language": "python",
   "name": "python3"
  },
  "language_info": {
   "codemirror_mode": {
    "name": "ipython",
    "version": 3
   },
   "file_extension": ".py",
   "mimetype": "text/x-python",
   "name": "python",
   "nbconvert_exporter": "python",
   "pygments_lexer": "ipython3",
   "version": "3.7.4"
  }
 },
 "nbformat": 4,
 "nbformat_minor": 2
}
