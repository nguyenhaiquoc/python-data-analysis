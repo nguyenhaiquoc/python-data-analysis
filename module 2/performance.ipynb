{
 "cells": [
  {
   "cell_type": "markdown",
   "metadata": {},
   "source": [
    "If we read a large csv file over and over time to do analysis,  \n",
    "we should save that file to a binary format such hdf then load that hdf file next time "
   ]
  },
  {
   "cell_type": "code",
   "execution_count": 3,
   "metadata": {},
   "outputs": [
    {
     "name": "stdout",
     "output_type": "stream",
     "text": [
      "Time taken to read CarsData.csv: 0.16954684257507324 seconds\n",
      "Time taken to save dataframe to hdf: 0.10571789741516113 seconds\n",
      "Time taken to read CarsData.h5: 0.058846235275268555 seconds\n"
     ]
    }
   ],
   "source": [
    "import pandas as pd\n",
    "pd.options.display.width = 1000\n",
    "\n",
    "# read CarsData.csv filed ~ 5MB to a dataframe and print time taken\n",
    "import time\n",
    "start = time.time()\n",
    "df = pd.read_csv('CarsData.csv')\n",
    "end = time.time()\n",
    "print('Time taken to read CarsData.csv:', end - start, 'seconds')\n",
    "\n",
    "# save above dataframe to a hdf file format and print time taken\n",
    "start = time.time()\n",
    "df.to_hdf('CarsData.h5', key='df', mode='w')\n",
    "end = time.time()\n",
    "print('Time taken to save dataframe to hdf:', end - start, 'seconds')\n",
    "\n",
    "# Re read CarsData.h5 filed  to a dataframe and print time taken\n",
    "start = time.time()\n",
    "df = pd.read_hdf('CarsData.h5', key='df')\n",
    "end = time.time()\n",
    "print('Time taken to read CarsData.h5:', end - start, 'seconds')"
   ]
  },
  {
   "cell_type": "markdown",
   "metadata": {},
   "source": [
    "If we know a column's value on in a set of limited values,  \n",
    "we should convert it to category type to save space\n",
    "Example of that kind of column: country list, brand name ...\n"
   ]
  },
  {
   "cell_type": "code",
   "execution_count": 17,
   "metadata": {},
   "outputs": [
    {
     "name": "stdout",
     "output_type": "stream",
     "text": [
      "           model  year  price transmission  mileage fuelType  tax   mpg  engineSize Manufacturer\n",
      "0            I10  2017   7495       Manual    11630   Petrol  145  60.1         1.0       hyundi\n",
      "1           Polo  2017  10989       Manual     9200   Petrol  145  58.9         1.0   volkswagen\n",
      "2       2 Series  2019  27990    Semi-Auto     1614   Diesel  145  49.6         2.0          BMW\n",
      "3   Yeti Outdoor  2017  12495       Manual    30960   Diesel  150  62.8         2.0        skoda\n",
      "4         Fiesta  2017   7999       Manual    19353   Petrol  125  54.3         1.2         ford\n",
      "number of unique values in each column:\n",
      "model             196\n",
      "year               27\n",
      "price           13236\n",
      "transmission        4\n",
      "mileage         42214\n",
      "fuelType            5\n",
      "tax                48\n",
      "mpg               208\n",
      "engineSize         40\n",
      "Manufacturer        9\n",
      "dtype: int64\n",
      "size of dataframe in memory (MB): 17.377426147460938\n",
      "size of dataframe in memory after converting Manufacturer to category (MB): 17.377426147460938\n",
      "size of dataframe in memory after converting Model to category (MB): 17.377426147460938\n",
      "   model  year  price transmission  mileage fuelType  tax   mpg  engineSize Manufacturer\n",
      "0    I10  2017   7495       Manual    11630   Petrol  145  60.1         1.0       hyundi\n",
      "1   Polo  2017  10989       Manual     9200   Petrol  145  58.9         1.0   volkswagen\n"
     ]
    }
   ],
   "source": [
    "print(df.head(5))\n",
    "\n",
    "# print the number of unique values in each column\n",
    "print(\"number of unique values in each column:\")\n",
    "print(df.nunique())\n",
    "\n",
    "# as we see that the Manufacturer column has 9 unique values, naturally it is a good candidate for a category column.\n",
    "\n",
    "print(\"size of dataframe in memory (MB):\", df.memory_usage(deep=True).sum() / (1024**2))\n",
    "\n",
    "# convert Manufacturer to category\n",
    "df['Manufacturer'] = df['Manufacturer'].astype('category')\n",
    "print(\"size of dataframe in memory after converting Manufacturer to category (MB):\", df.memory_usage(deep=True).sum() / (1024**2))\n",
    "\n",
    "# covert model to category\n",
    "df['model'] = df['model'].astype('category')\n",
    "print(\"size of dataframe in memory after converting Model to category (MB):\", df.memory_usage(deep=True).sum() / (1024**2))\n",
    "\n",
    "print(df.head(2))"
   ]
  },
  {
   "cell_type": "markdown",
   "metadata": {},
   "source": [
    "Speed up Column Operations\n",
    "* Iteration by iloc (access by index = 1, 2 , so on)\n",
    "* Iteration by .iterrows().\n",
    "* Iteration by .itertyple()\n",
    "* apply() function.\n",
    "* Vectorize like Numpy."
   ]
  },
  {
   "cell_type": "code",
   "execution_count": 1,
   "metadata": {},
   "outputs": [
    {
     "name": "stdout",
     "output_type": "stream",
     "text": [
      "Running time of iterrows is 9.3508115 seconds.\n",
      "Running time of itertuples is 0.13143509999999914 seconds.\n",
      "Running time of iloc is 1.1085849000000003 seconds.\n",
      "Running time of apply() is 0.041646199999998856 seconds.\n",
      "Running time of Vectorize is 0.00230830000000104 seconds.\n"
     ]
    }
   ],
   "source": [
    "import numpy as np\n",
    "import timeit\n",
    "import pandas as pd\n",
    "import math\n",
    "\n",
    "d = np.random.randint(1, 10, size=(100000, 2))\n",
    "df = pd.DataFrame(d)\n",
    "df.columns = [\"a\", \"b\"]\n",
    "\n",
    "# Iterate the rows by iterrows\n",
    "tmpList = np.zeros(100000)\n",
    "start = timeit.default_timer()\n",
    "for i, row in df.iterrows():\n",
    "    tmpList[i] = math.sqrt(row['a'])\n",
    "stop = timeit.default_timer()\n",
    "df['sqrt_a'] = tmpList\n",
    "print(\"Running time of iterrows is {} seconds.\".format(stop-start))\n",
    "\n",
    "# iterate by itertuples\n",
    "tmpList = np.zeros(100000)\n",
    "start = timeit.default_timer()\n",
    "for row in df.itertuples():\n",
    "    tmpList[i] = math.sqrt(row.a)\n",
    "stop = timeit.default_timer()\n",
    "df['sqrt_a'] = tmpList\n",
    "print(\"Running time of itertuples is {} seconds.\".format(stop-start))\n",
    "\n",
    "# Iterate the rows by iloc operation\n",
    "tmpList = np.zeros(100000)\n",
    "start = timeit.default_timer()\n",
    "for i in range(100000):\n",
    "    tmpList[i] = math.sqrt(df.iloc[i, 0])\n",
    "stop = timeit.default_timer()\n",
    "df['sqrt_a'] = tmpList\n",
    "print(\"Running time of iloc is {} seconds.\".format(stop-start))\n",
    "\n",
    "# Iterate the rows by apply().\n",
    "start = timeit.default_timer()\n",
    "df['sqrt_a'] = df[\"a\"].apply(lambda s: math.sqrt(s))\n",
    "stop = timeit.default_timer()\n",
    "print(\"Running time of apply() is {} seconds.\".format(stop-start))\n",
    "\n",
    "# Iterate the rows by Numpy vectorize.\n",
    "start = timeit.default_timer()\n",
    "df['sqrt_a'] = np.sqrt(df[\"a\"])\n",
    "stop = timeit.default_timer()\n",
    "print(\"Running time of Vectorize is {} seconds.\".format(stop-start))"
   ]
  }
 ],
 "metadata": {
  "kernelspec": {
   "display_name": "base",
   "language": "python",
   "name": "python3"
  },
  "language_info": {
   "codemirror_mode": {
    "name": "ipython",
    "version": 3
   },
   "file_extension": ".py",
   "mimetype": "text/x-python",
   "name": "python",
   "nbconvert_exporter": "python",
   "pygments_lexer": "ipython3",
   "version": "3.7.4"
  }
 },
 "nbformat": 4,
 "nbformat_minor": 2
}
