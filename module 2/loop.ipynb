{
 "cells": [
  {
   "cell_type": "markdown",
   "metadata": {},
   "source": [
    "Iteration is a slow operation, especially if it is done by methods like apply().  \n",
    "Fortunately, you can choose alternative methods given by pandas.   \n",
    "You still can use a normal for loop in your code to iterate a DataFrame, but keep in mind that **iteration is slow**.  \n",
    "When we talk about iteration, most of the time we are trying to process the data row by row.  \n",
    "DataFrame has a function, iterrows(), which iterates over the rows as (index, series) pairs."
   ]
  },
  {
   "cell_type": "code",
   "execution_count": 5,
   "metadata": {},
   "outputs": [
    {
     "name": "stdout",
     "output_type": "stream",
     "text": [
      "The original DataFrame object.\n",
      "   a  b\n",
      "0  1  2\n",
      "1  2  3\n",
      "2  3  4\n",
      "3  4  5\n",
      "4  5  6\n",
      "The index 0 row values: [1 2]\n",
      "The index 1 row values: [2 3]\n",
      "The index 2 row values: [3 4]\n",
      "The index 3 row values: [4 5]\n",
      "The index 4 row values: [5 6]\n"
     ]
    }
   ],
   "source": [
    "import pandas as pd\n",
    "pd.options.display.width = 1000\n",
    "\n",
    "d = {\"a\":[1,2,3,4,5],\"b\":[2,3,4,5,6]}\n",
    "df = pd.DataFrame(d)\n",
    "print(\"The original DataFrame object.\")\n",
    "print(df)\n",
    "for index, row in df.iterrows():\n",
    "    print(\"The index {} row values: {}\".format(index, row.values))"
   ]
  },
  {
   "cell_type": "markdown",
   "metadata": {},
   "source": [
    "iteritems() goes over each column as (key, value) pairs.   \n",
    "In other words, in this iteration, you get a pair where the key is the column name(label) and the value is the corresponding column, which is a Series type."
   ]
  },
  {
   "cell_type": "code",
   "execution_count": 6,
   "metadata": {},
   "outputs": [
    {
     "name": "stdout",
     "output_type": "stream",
     "text": [
      "The original DataFrame object.\n",
      "   a  b\n",
      "0  1  2\n",
      "1  2  3\n",
      "2  3  4\n",
      "3  4  5\n",
      "4  5  6\n",
      "The column name a, the corresponding value [1 2 3 4 5]\n",
      "The column name b, the corresponding value [2 3 4 5 6]\n"
     ]
    }
   ],
   "source": [
    "import pandas as pd\n",
    "\n",
    "d = {\"a\":[1,2,3,4,5],\"b\":[2,3,4,5,6]}\n",
    "df = pd.DataFrame(d)\n",
    "print(\"The original DataFrame object.\")\n",
    "print(df)\n",
    "for k, v in df.iteritems():\n",
    "    print(\"The column name {}, the corresponding value {}\".format(k,v.values))"
   ]
  },
  {
   "cell_type": "markdown",
   "metadata": {},
   "source": [
    "itertuples() This yields a named tuple for each row in DataFrame.   \n",
    "The first element of this tuple is the index and the remaining values are corresponding columns.  \n",
    "You can’t access the value by the [] operator, but you can by using the dot (.) operator.  \n",
    "**itertuples() is much faster in most cases.**"
   ]
  },
  {
   "cell_type": "code",
   "execution_count": 7,
   "metadata": {},
   "outputs": [
    {
     "name": "stdout",
     "output_type": "stream",
     "text": [
      "The original DataFrame object.\n",
      "   a  b\n",
      "0  1  2\n",
      "1  2  3\n",
      "2  3  4\n",
      "3  4  5\n",
      "4  5  6\n",
      "The row index is 0, the column a value is 1, the column b value is 2\n",
      "The row index is 1, the column a value is 2, the column b value is 3\n",
      "The row index is 2, the column a value is 3, the column b value is 4\n",
      "The row index is 3, the column a value is 4, the column b value is 5\n",
      "The row index is 4, the column a value is 5, the column b value is 6\n"
     ]
    }
   ],
   "source": [
    "import pandas as pd\n",
    "\n",
    "d = {\"a\":[1,2,3,4,5],\"b\":[2,3,4,5,6]}\n",
    "df = pd.DataFrame(d)\n",
    "print(\"The original DataFrame object.\")\n",
    "print(df)\n",
    "for r in df.itertuples():\n",
    "    print(\"The row index is {}, the column a value is {}, \"\n",
    "          \"the column b value is {}\".format(r.Index, r.a, r.b))"
   ]
  }
 ],
 "metadata": {
  "kernelspec": {
   "display_name": "base",
   "language": "python",
   "name": "python3"
  },
  "language_info": {
   "codemirror_mode": {
    "name": "ipython",
    "version": 3
   },
   "file_extension": ".py",
   "mimetype": "text/x-python",
   "name": "python",
   "nbconvert_exporter": "python",
   "pygments_lexer": "ipython3",
   "version": "3.7.4"
  }
 },
 "nbformat": 4,
 "nbformat_minor": 2
}
