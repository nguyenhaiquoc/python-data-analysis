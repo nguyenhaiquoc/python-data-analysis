{
 "cells": [
  {
   "cell_type": "markdown",
   "metadata": {},
   "source": [
    "describe, mean, sum"
   ]
  },
  {
   "cell_type": "code",
   "execution_count": 12,
   "metadata": {},
   "outputs": [
    {
     "name": "stdout",
     "output_type": "stream",
     "text": [
      "   a   b   c\n",
      "0  1  11  21\n",
      "1  2  12  22\n",
      "2  3  13  23\n",
      "basic statistics:\n",
      "              a          b          c\n",
      "count  9.000000   9.000000   9.000000\n",
      "mean   5.000000  15.000000  25.000000\n",
      "std    2.738613   2.738613   2.738613\n",
      "min    1.000000  11.000000  21.000000\n",
      "25%    3.000000  13.000000  23.000000\n",
      "50%    5.000000  15.000000  25.000000\n",
      "75%    7.000000  17.000000  27.000000\n",
      "max    9.000000  19.000000  29.000000\n",
      "sum of all columns:\n",
      "a     45\n",
      "b    135\n",
      "c    225\n",
      "dtype: int64\n",
      "type of values: <class 'numpy.ndarray'>\n",
      "sum of all values: 405\n",
      "sum of all values using stack:\n",
      "type of stack: <class 'pandas.core.series.Series'>\n",
      "0  a     1\n",
      "   b    11\n",
      "   c    21\n",
      "1  a     2\n",
      "   b    12\n",
      "dtype: int64\n",
      "405\n"
     ]
    }
   ],
   "source": [
    "import pandas as pd\n",
    "pd.options.display.width = 1000\n",
    "\n",
    "d = {\"a\":range(1, 10), \"b\": range(11,20), \"c\": range(21,30)}\n",
    "\n",
    "df = pd.DataFrame(d)\n",
    "print(df.head(3))\n",
    "print(\"basic statistics:\")\n",
    "print(df.describe())\n",
    "\n",
    "# sum all the columns\n",
    "print(\"sum of all columns:\")\n",
    "print(df.sum()) # can pass axis = 1 to do row sum\n",
    "\n",
    "# sum of all value in the dataframe\n",
    "values = df.values\n",
    "print(\"type of values:\", type(values))  # numpy.ndarray\n",
    "print(\"sum of all values:\", values.sum())\n",
    "\n",
    "# sum of all values usinmg stack\n",
    "print(\"sum of all values using stack:\")\n",
    "stack = df.stack()\n",
    "print(\"type of stack:\", type(stack))  # pandas.core.series.Series\n",
    "print(stack.head(5))\n",
    "print(df.stack().sum())"
   ]
  },
  {
   "cell_type": "code",
   "execution_count": null,
   "metadata": {},
   "outputs": [],
   "source": [
    "df = pd.read_csv(\"raw_data.csv\")\n",
    "df.value_counts()\n",
    "df.value_counts(normalize=True)\n",
    "df[\"price\"].sum()\n",
    "df[\"price\"].nunique()"
   ]
  }
 ],
 "metadata": {
  "kernelspec": {
   "display_name": "base",
   "language": "python",
   "name": "python3"
  },
  "language_info": {
   "codemirror_mode": {
    "name": "ipython",
    "version": 3
   },
   "file_extension": ".py",
   "mimetype": "text/x-python",
   "name": "python",
   "nbconvert_exporter": "python",
   "pygments_lexer": "ipython3",
   "version": "3.7.4"
  }
 },
 "nbformat": 4,
 "nbformat_minor": 2
}
