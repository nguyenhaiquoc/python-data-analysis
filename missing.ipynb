{
 "cells": [
  {
   "cell_type": "code",
   "execution_count": 24,
   "metadata": {},
   "outputs": [],
   "source": [
    "import pandas as pd\n",
    "import numpy as np\n",
    "pd.options.display.width = 1000\n"
   ]
  },
  {
   "cell_type": "markdown",
   "metadata": {},
   "source": [
    "Int won't accept NAN, so int will be convert to fload if the value list have Nan.So, whenever there’s a NaN value in an integer column, the data type of the whole column is upcasted to float."
   ]
  },
  {
   "cell_type": "code",
   "execution_count": 25,
   "metadata": {},
   "outputs": [
    {
     "name": "stdout",
     "output_type": "stream",
     "text": [
      "     A    B    C\n",
      "0  1.0  2.4  foo\n",
      "1  2.0  6.2  zoo\n",
      "2  3.0  5.1  bar\n",
      "3  NaN  NaN  NaN\n"
     ]
    }
   ],
   "source": [
    "df = pd.DataFrame({\n",
    "    \"A\": [1, 2, 3, np.nan],\n",
    "    \"B\": [2.4, 6.2, 5.1, np.nan],\n",
    "    \"C\": [\"foo\",\"zoo\",\"bar\", np.nan]\n",
    "})\n",
    "\n",
    "print(df)"
   ]
  },
  {
   "cell_type": "markdown",
   "metadata": {},
   "source": [
    "To overcome this issue, a new missing value representation for integers, <NA>, was introduced with Pandas 1.0. We need to explicitly declare the data type as pd.Int64Dtype()"
   ]
  },
  {
   "cell_type": "code",
   "execution_count": 26,
   "metadata": {},
   "outputs": [
    {
     "name": "stdout",
     "output_type": "stream",
     "text": [
      "     A    B    C\n",
      "0    1  2.4  foo\n",
      "1    2  6.2  zoo\n",
      "2    3  5.1  bar\n",
      "3  NaN  NaN  NaN\n"
     ]
    }
   ],
   "source": [
    "df = pd.DataFrame({\n",
    "    \"A\": [1, 2, 3, np.nan],\n",
    "    \"B\": [2.4, 6.2, 5.1, np.nan],\n",
    "    \"C\": [\"foo\",\"zoo\",\"bar\", np.nan]\n",
    "})\n",
    "\n",
    "df[\"A\"] = df[\"A\"].astype(pd.Int64Dtype())\n",
    "\n",
    "# look at A column as Int64\n",
    "print(df)"
   ]
  },
  {
   "cell_type": "markdown",
   "metadata": {},
   "source": [
    "isna and notna function, return a new dataframe of True/False"
   ]
  },
  {
   "cell_type": "code",
   "execution_count": 27,
   "metadata": {},
   "outputs": [
    {
     "name": "stdout",
     "output_type": "stream",
     "text": [
      "       A      B      C      D\n",
      "0  False  False   True  False\n",
      "1  False   True  False   True\n",
      "2  False  False  False  False\n",
      "3   True   True  False  False\n",
      "4  False  False   True  False\n",
      "Number of NA in each column\n",
      "A    1\n",
      "B    2\n",
      "C    2\n",
      "D    1\n",
      "dtype: int64\n",
      "Total number of NA cell\n",
      "6\n"
     ]
    }
   ],
   "source": [
    "df = pd.DataFrame({\n",
    "    \"A\": [1, 2, 3, np.nan, 7],\n",
    "    \"B\": [2.4, np.nan, 5.1, np.nan, 2.6],\n",
    "    \"C\": [np.nan, \"foo\",\"zoo\",\"bar\", np.nan],\n",
    "    \"D\": [11.5, np.nan, 6.2, 21.1, 8.7]\n",
    "})\n",
    "\n",
    "print(df.isna())\n",
    "print(\"Number of NA in each column\")\n",
    "print(df.isna().sum())  # same as print(df.isna().sum(axis=0))\n",
    "\n",
    "print(\"Total number of NA cell\")\n",
    "print(df.isna().sum().sum())"
   ]
  },
  {
   "cell_type": "markdown",
   "metadata": {},
   "source": [
    "Drona function"
   ]
  },
  {
   "cell_type": "code",
   "execution_count": 28,
   "metadata": {},
   "outputs": [
    {
     "name": "stdout",
     "output_type": "stream",
     "text": [
      "     A    B    C     D\n",
      "0  1.0  2.4  NaN  11.5\n",
      "1  2.0  NaN  foo   NaN\n",
      "2  3.0  5.1  zoo   6.2\n",
      "3  NaN  NaN  bar  21.1\n",
      "4  7.0  2.6  NaN   8.7\n",
      "\n",
      "drop row with any NA\n",
      "     A    B    C    D\n",
      "2  3.0  5.1  zoo  6.2\n",
      "\n",
      "drop column with any NA\n",
      "Empty DataFrame\n",
      "Columns: []\n",
      "Index: [0, 1, 2, 3, 4]\n",
      "\n",
      "drop row if all cell is NA\n",
      "     A    B    C     D\n",
      "0  1.0  2.4  NaN  11.5\n",
      "1  2.0  NaN  foo   NaN\n",
      "2  3.0  5.1  zoo   6.2\n",
      "3  NaN  NaN  bar  21.1\n",
      "4  7.0  2.6  NaN   8.7\n"
     ]
    }
   ],
   "source": [
    "df = pd.DataFrame({\n",
    "    \"A\": [1, 2, 3, np.nan, 7],\n",
    "    \"B\": [2.4, np.nan, 5.1, np.nan, 2.6],\n",
    "    \"C\": [np.nan, \"foo\",\"zoo\",\"bar\", np.nan],\n",
    "    \"D\": [11.5, np.nan, 6.2, 21.1, 8.7]\n",
    "})\n",
    "print(df)\n",
    "print(\"\\ndrop row with any NA\")\n",
    "print(df.dropna())  # drop rows with any NA\n",
    "\n",
    "print(\"\\ndrop column with any NA\")\n",
    "print(df.dropna(axis=1))  # drop columns with any NA\n",
    "\n",
    "print(\"\\ndrop row if all cell is NA\")\n",
    "print(df.dropna(how='all'))  # drop rows with any NA\n"
   ]
  },
  {
   "cell_type": "markdown",
   "metadata": {},
   "source": [
    "**Drop thresh**"
   ]
  },
  {
   "cell_type": "code",
   "execution_count": 29,
   "metadata": {},
   "outputs": [
    {
     "name": "stdout",
     "output_type": "stream",
     "text": [
      "     A    B    C     D  E\n",
      "0  1.0  2.4  NaN  11.5  1\n",
      "1  2.0  NaN  foo   NaN  2\n",
      "2  3.0  5.1  zoo   6.2  3\n",
      "3  NaN  NaN  bar  21.1  4\n",
      "4  7.0  2.6  NaN   8.7  5\n",
      "\n",
      "\n",
      "\n",
      "     A    B    C     D  E\n",
      "0  1.0  2.4  NaN  11.5  1\n",
      "2  3.0  5.1  zoo   6.2  3\n",
      "4  7.0  2.6  NaN   8.7  5\n"
     ]
    }
   ],
   "source": [
    "df = pd.DataFrame({\n",
    "    \"A\": [1, 2, 3, np.nan, 7],\n",
    "    \"B\": [2.4, np.nan, 5.1, np.nan, 2.6],\n",
    "    \"C\": [np.nan, \"foo\",\"zoo\",\"bar\", np.nan],\n",
    "    \"D\": [11.5, np.nan, 6.2, 21.1, 8.7],\n",
    "    \"E\": [1, 2, 3, 4, 5]\n",
    "})\n",
    "\n",
    "print(df)\n",
    "print(\"\\n\\n\")\n",
    "# Drop rows that have less than 4 non-missing values\n",
    "print(df.dropna(thresh=4))"
   ]
  },
  {
   "cell_type": "markdown",
   "metadata": {},
   "source": [
    "Fillna, this is just technical function. To reiterate, determining the replacement value depends on the characteristics of the data and domain knowledge.\n",
    "For instance, if our data consists of the daily stock prices, filling a missing value with the previous or next value is more optimal than using the average.\n",
    "This is a commonly used approach in time-series data. The fillna function performs this operation easily with the method parameter **method=\"bfill\" and \"ffill\"**"
   ]
  },
  {
   "cell_type": "code",
   "execution_count": 35,
   "metadata": {},
   "outputs": [
    {
     "name": "stdout",
     "output_type": "stream",
     "text": [
      "0    1.0\n",
      "1    2.0\n",
      "2    3.0\n",
      "3    NaN\n",
      "4    7.0\n",
      "Name: A, dtype: float64\n",
      "\n",
      "\n",
      "Column A after fill NA with mean\n",
      "0    1.00\n",
      "1    2.00\n",
      "2    3.00\n",
      "3    3.25\n",
      "4    7.00\n",
      "Name: A, dtype: float64\n"
     ]
    }
   ],
   "source": [
    "df = pd.DataFrame({\n",
    "    \"A\": [1, 2, 3, np.nan, 7],\n",
    "    \"B\": [2.4, np.nan, 5.1, np.nan, 2.6],\n",
    "    \"C\": [np.nan, \"foo\",\"zoo\",\"bar\", np.nan],\n",
    "    \"D\": [11.5, np.nan, 6.2, 21.1, 8.7],\n",
    "    \"E\": [1, 2, 3, 4, 5]\n",
    "})\n",
    "\n",
    "print(df[\"A\"])\n",
    "print(\"\\n\\nColumn A after fill NA with mean\")\n",
    "print(df[\"A\"].fillna(value = df[\"A\"].mean()))\n"
   ]
  },
  {
   "cell_type": "code",
   "execution_count": 36,
   "metadata": {},
   "outputs": [
    {
     "name": "stdout",
     "output_type": "stream",
     "text": [
      "\n",
      "Filling backward\n",
      "0    1.0\n",
      "1    2.0\n",
      "2    3.0\n",
      "3    7.0\n",
      "4    7.0\n",
      "Name: A, dtype: float64\n",
      "\n",
      "Filling forward\n",
      "0    1.0\n",
      "1    2.0\n",
      "2    3.0\n",
      "3    3.0\n",
      "4    7.0\n",
      "Name: A, dtype: float64\n"
     ]
    }
   ],
   "source": [
    "print(\"\\nFilling backward\")\n",
    "print(df[\"A\"].fillna(method=\"bfill\"))\n",
    "\n",
    "print(\"\\nFilling forward\")\n",
    "print(df[\"A\"].fillna(method=\"ffill\"))"
   ]
  },
  {
   "cell_type": "code",
   "execution_count": 38,
   "metadata": {},
   "outputs": [
    {
     "name": "stdout",
     "output_type": "stream",
     "text": [
      "Without the limit parameter\n",
      "     A\n",
      "0  1.0\n",
      "1  2.0\n",
      "2  8.0\n",
      "3  8.0\n",
      "4  8.0\n",
      "\n",
      "With the limit parameter\n",
      "     A\n",
      "0  1.0\n",
      "1  2.0\n",
      "2  NaN\n",
      "3  8.0\n",
      "4  8.0\n"
     ]
    }
   ],
   "source": [
    "df = pd.DataFrame({\n",
    "    \"A\": [1, 2, np.nan, np.nan, 8]\n",
    "})\n",
    "\n",
    "print(\"Without the limit parameter\")\n",
    "print(df.fillna(method=\"bfill\"))\n",
    "\n",
    "print(\"\\nWith the limit parameter\")\n",
    "print(df.fillna(method=\"bfill\", limit=1))"
   ]
  },
  {
   "cell_type": "markdown",
   "metadata": {},
   "source": [
    "Excersice: We have the following DataFrame with two columns and ten rows. We want to fill the missing values in the measurement column with their previous values, but we’re only allowed to fill two consecutive values with this method. The remaining ones need to be filled with the average value of the column."
   ]
  },
  {
   "cell_type": "code",
   "execution_count": 43,
   "metadata": {},
   "outputs": [
    {
     "name": "stdout",
     "output_type": "stream",
     "text": [
      "        Date  Measurement\n",
      "0 2021-10-01         16.0\n",
      "1 2021-10-02         13.0\n",
      "2 2021-10-03         14.0\n",
      "3 2021-10-04         12.0\n",
      "4 2021-10-05          NaN\n",
      "5 2021-10-06          NaN\n",
      "6 2021-10-07          NaN\n",
      "7 2021-10-08          8.0\n",
      "8 2021-10-09          7.0\n",
      "9 2021-10-10          5.0\n",
      "        Date  Measurement\n",
      "0 2021-10-01         16.0\n",
      "1 2021-10-02         13.0\n",
      "2 2021-10-03         14.0\n",
      "3 2021-10-04         12.0\n",
      "4 2021-10-05         12.0\n",
      "5 2021-10-06         12.0\n",
      "6 2021-10-07         11.0\n",
      "7 2021-10-08          8.0\n",
      "8 2021-10-09          7.0\n",
      "9 2021-10-10          5.0\n"
     ]
    }
   ],
   "source": [
    "df = pd.DataFrame({\n",
    "    \"Date\": pd.date_range(start=\"2021-10-01\", periods=10),\n",
    "    \"Measurement\": [16, 13, 14, 12, np.nan, np.nan, np.nan, 8, 7, 5]\n",
    "})\n",
    "\n",
    "print(df)\n",
    "\n",
    "df[\"Measurement\"].fillna(method=\"ffill\", inplace=True, limit=2)\n",
    "df[\"Measurement\"].fillna(inplace=True, value=df[\"Measurement\"].mean())\n",
    "print(df)\n"
   ]
  }
 ],
 "metadata": {
  "kernelspec": {
   "display_name": "base",
   "language": "python",
   "name": "python3"
  },
  "language_info": {
   "codemirror_mode": {
    "name": "ipython",
    "version": 3
   },
   "file_extension": ".py",
   "mimetype": "text/x-python",
   "name": "python",
   "nbconvert_exporter": "python",
   "pygments_lexer": "ipython3",
   "version": "3.7.4"
  }
 },
 "nbformat": 4,
 "nbformat_minor": 2
}
