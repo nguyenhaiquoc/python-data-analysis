{
 "cells": [
  {
   "cell_type": "code",
   "execution_count": 4,
   "metadata": {},
   "outputs": [
    {
     "name": "stdout",
     "output_type": "stream",
     "text": [
      "               name             city date_of_birth  start_date   salary       department\n",
      "0          John Doe      Houston, TX    1998-11-04  2018-08-11  $65,000       Accounting\n",
      "1          Jane Doe     San Jose, CA    1995-08-05  2017-08-24  $70,000    Field Quality\n",
      "2        Matt smith       Dallas, TX    1996-11-25  2020-04-16  $58,500  human resources\n",
      "3     Ashley Harris        Miami, FL    1995-01-08  2021-02-11  $49,500       accounting\n",
      "4  Jonathan targett  Santa Clara, CA    1998-08-14  2020-09-01  $62,000    field quality\n",
      "name             object\n",
      "city             object\n",
      "date_of_birth    object\n",
      "start_date       object\n",
      "salary           object\n",
      "department       object\n",
      "dtype: object\n"
     ]
    }
   ],
   "source": [
    "import pandas as pd\n",
    "pd.options.display.width = 1000\n",
    "\n",
    "staff = pd.read_csv('staff.csv')\n",
    "print(staff.head(5))\n"
   ]
  },
  {
   "cell_type": "markdown",
   "metadata": {},
   "source": [
    "The staff contains the start_date and date_of_birth columns.  \n",
    "We’re asked to find the age of employees at the time they were hired in years.   \n",
    "For instance, if an employee was born in 1991 and started working in 2021, then the answer should be 30."
   ]
  },
  {
   "cell_type": "code",
   "execution_count": 44,
   "metadata": {},
   "outputs": [
    {
     "name": "stdout",
     "output_type": "stream",
     "text": [
      "               name             city date_of_birth start_date   salary       department  age  day_of_the_week\n",
      "0          John Doe      Houston, TX    1998-11-04 2018-08-11  $65,000       Accounting   19                5\n",
      "1          Jane Doe     San Jose, CA    1995-08-05 2017-08-24  $70,000    Field Quality   22                3\n",
      "2        Matt smith       Dallas, TX    1996-11-25 2020-04-16  $58,500  human resources   23                3\n",
      "3     Ashley Harris        Miami, FL    1995-01-08 2021-02-11  $49,500       accounting   26                3\n",
      "4  Jonathan targett  Santa Clara, CA    1998-08-14 2020-09-01  $62,000    field quality   22                1\n"
     ]
    }
   ],
   "source": [
    "# convert date_of_birth and start_date column to datetime64\n",
    "staff = staff.astype({'date_of_birth': 'datetime64[ns]', 'start_date': 'datetime64[ns]'})\n",
    "\n",
    "# calculate age column using start_date - start_date\n",
    "staff['age'] = (staff[\"start_date\"] - staff[\"date_of_birth\"])\n",
    "# extract year from age column as datetime delta\n",
    "staff['age'] = staff['age'].dt.days // 365\n",
    "print(staff.head(5))\n",
    "\n",
    "staff[\"day_of_the_week\"] = staff[\"start_date\"].dt.dayofweek"
   ]
  }
 ],
 "metadata": {
  "kernelspec": {
   "display_name": "base",
   "language": "python",
   "name": "python3"
  },
  "language_info": {
   "codemirror_mode": {
    "name": "ipython",
    "version": 3
   },
   "file_extension": ".py",
   "mimetype": "text/x-python",
   "name": "python",
   "nbconvert_exporter": "python",
   "pygments_lexer": "ipython3",
   "version": "3.7.4"
  }
 },
 "nbformat": 4,
 "nbformat_minor": 2
}
