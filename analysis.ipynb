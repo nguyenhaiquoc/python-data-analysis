{
 "cells": [
  {
   "cell_type": "code",
   "execution_count": 2,
   "metadata": {},
   "outputs": [],
   "source": [
    "import pandas as pd\n",
    "pd.options.display.width = 1000"
   ]
  },
  {
   "cell_type": "markdown",
   "metadata": {},
   "source": [
    "Data analysis can be defined as the process of inferring insights, discovering useful information, and drawing results from the data at hand. It’s mainly done to support a decision-making process or to explore the data before creating a machine learning model."
   ]
  },
  {
   "cell_type": "markdown",
   "metadata": {},
   "source": [
    "**GroupBY**"
   ]
  },
  {
   "cell_type": "code",
   "execution_count": 3,
   "metadata": {},
   "outputs": [
    {
     "name": "stdout",
     "output_type": "stream",
     "text": [
      "Index(['product_code', 'product_group', 'stock_qty', 'cost', 'price', 'last_week_sales', 'last_month_sales'], dtype='object')\n",
      "   product_code product_group  stock_qty    cost    price  last_week_sales  last_month_sales\n",
      "0          4187           PG2        498  420.76   569.91               13                58\n",
      "1          4195           PG2        473  545.64   712.41               16                58\n",
      "2          4204           PG2        968  640.42   854.91               22                88\n",
      "3          4219           PG2        241  869.69  1034.55               14                45\n",
      "4          4718           PG2       1401   12.54    26.59               50               285\n",
      "\n",
      "****************\n",
      "<class 'pandas.core.frame.DataFrame'>\n",
      "               product_code  stock_qty      cost     price  last_week_sales  last_month_sales\n",
      "product_group                                                                                \n",
      "PG1                  166563      25766   8016.10  11840.90             1382              4794\n",
      "PG2                  384414     160651   6150.50   9373.51             6133             23840\n",
      "PG3                  198354      95941   2233.62   3259.29             3871             14929\n",
      "PG4                 1927751     465054   6244.23  10830.65            16064             56352\n",
      "PG5                 1288510    4545082  17451.49  22209.22            21343             79125\n",
      "PG6                 1129494     720011   5856.13   9549.94            28125            102960\n",
      "8016.099999999999\n",
      "8016.099999999999\n"
     ]
    }
   ],
   "source": [
    "df = pd.read_csv('sales.csv')\n",
    "print(df.columns)\n",
    "print(df.head(5))\n",
    "\n",
    "gr= df.groupby(\"product_group\")\n",
    "print(\"\\n****************\")\n",
    "result= gr.sum()\n",
    "print(type(result))\n",
    "print(result)\n",
    "# acess cell result.loc[\"product_group\",\"column_name\"]\n",
    "print(result.loc[\"PG1\",\"cost\"])\n",
    "# using iloc\n",
    "print(result.iloc[0,2])"
   ]
  },
  {
   "cell_type": "markdown",
   "metadata": {},
   "source": [
    "Named agg"
   ]
  },
  {
   "cell_type": "code",
   "execution_count": 4,
   "metadata": {},
   "outputs": [
    {
     "name": "stdout",
     "output_type": "stream",
     "text": [
      "                   cost     price\n",
      "product_group                    \n",
      "PG1             8016.10  11840.90\n",
      "PG2             6150.50   9373.51\n",
      "PG3             2233.62   3259.29\n",
      "PG4             6244.23  10830.65\n",
      "PG5            17451.49  22209.22\n",
      "PG6             5856.13   9549.94\n",
      "\n",
      "****************\n",
      "<class 'pandas.core.frame.DataFrame'>\n",
      "               cost_sum  price_sum\n",
      "product_group                     \n",
      "PG5            17451.49   22209.22\n",
      "PG1             8016.10   11840.90\n",
      "PG4             6244.23   10830.65\n",
      "PG2             6150.50    9373.51\n",
      "PG6             5856.13    9549.94\n",
      "[17451.49000000001, 8016.099999999999, 6244.23, 6150.5, 5856.13, 2233.6199999999994]\n"
     ]
    }
   ],
   "source": [
    "print(df.groupby(\"product_group\").agg({\"cost\":\"sum\",\"price\":\"sum\"}))\n",
    "# naming the columns\n",
    "# print(df.groupby(\"product_group\").agg(cost_sum=(\"cost\",\"sum\"),price_sum=(\"price\",\"sum\")).sort_values(\"cost_sum\",ascending=False))\n",
    "\n",
    "result = df.groupby(\"product_group\").agg(cost_sum=(\"cost\",\"sum\"),price_sum=(\"price\",\"sum\")).sort_values(\"cost_sum\",ascending=False)\n",
    "print(\"\\n****************\")\n",
    "print(type(result))\n",
    "print(result.head(5))\n",
    "print(list(result[\"cost_sum\"]))\n"
   ]
  },
  {
   "cell_type": "markdown",
   "metadata": {},
   "source": [
    "Pivot Table"
   ]
  },
  {
   "cell_type": "code",
   "execution_count": 5,
   "metadata": {},
   "outputs": [
    {
     "name": "stdout",
     "output_type": "stream",
     "text": [
      "   product_code product_group  stock_qty    cost   price  last_week_sales  last_month_sales\n",
      "0          4187           PG2        498  420.76  569.91               13                58\n",
      "1          4195           PG2        473  545.64  712.41               16                58\n",
      "2          4204           PG2        968  640.42  854.91               22                88\n",
      "\n",
      "****************\n",
      "\n",
      "****************\n",
      "<class 'pandas.core.frame.DataFrame'>\n",
      "week                  1\n",
      "product_group          \n",
      "PG1             8016.10\n",
      "PG2             6150.50\n",
      "PG3             2233.62\n",
      "PG4             6244.23\n",
      "PG5            17451.49\n"
     ]
    }
   ],
   "source": [
    "print(df.head(3))\n",
    "\n",
    "print(\"\\n****************\")\n",
    "#print(df.pivot_table(index=\"product_group\",values=\"cost\",aggfunc=\"sum\").sort_values(\"cost\",ascending=False))\n",
    "\n",
    "df[\"week\"] = 1\n",
    "pivot = pd.pivot_table(\n",
    "    data=df, \n",
    "    index=\"product_group\",\n",
    "    values=\"cost\",\n",
    "    aggfunc=\"sum\",\n",
    "    columns=\"week\"\n",
    ")\n",
    "\n",
    "print(\"\\n****************\")\n",
    "print(type(pivot))\n",
    "print(pivot.head(5))\n",
    "#print(pivot.loc[\"PG1\",\"cost\"])"
   ]
  },
  {
   "cell_type": "code",
   "execution_count": 6,
   "metadata": {},
   "outputs": [
    {
     "name": "stdout",
     "output_type": "stream",
     "text": [
      "   A   B   C  year\n",
      "0  1   5   9  2018\n",
      "1  2   6  10  2018\n",
      "2  3   7  11  2019\n",
      "3  4   8  12  2019\n",
      "4  4   9  13  2018\n",
      "5  4  10  14  2019\n",
      "\n",
      "\n",
      "****************\n",
      "      sum                   mean                 \n",
      "        B           C          B          C      \n",
      "year 2018  2019  2018  2019 2018 2019  2018  2019\n",
      "A                                                \n",
      "1     5.0   NaN   9.0   NaN  5.0  NaN   9.0   NaN\n",
      "2     6.0   NaN  10.0   NaN  6.0  NaN  10.0   NaN\n",
      "3     NaN   7.0   NaN  11.0  NaN  7.0   NaN  11.0\n",
      "4     9.0  18.0  13.0  26.0  9.0  9.0  13.0  13.0\n",
      "<class 'pandas.core.frame.DataFrame'>\n",
      "5.0\n"
     ]
    }
   ],
   "source": [
    "#url = 'https://github.com/mattharrison/datasets/raw/master/data/'\\\n",
    "#      '2020-jetbrains-python-survey.csv'\n",
    "#jb = pd.read_csv(url)\n",
    "#print(jb.head(5))\n",
    "\n",
    "# create dataframe containing A, B, C and year columns\n",
    "df = pd.DataFrame({\n",
    "    'A': [1, 2, 3, 4, 4, 4],\n",
    "    'B': [5, 6, 7, 8, 9, 10],\n",
    "    'C': [9, 10, 11, 12, 13, 14],\n",
    "    'year': [2018, 2018, 2019, 2019, 2018, 2019]\n",
    "})\n",
    "\n",
    "print(df.head(10))\n",
    "\n",
    "pivot = df.pivot_table(\n",
    "    values=['B', 'C'],\n",
    "    index=['A'],\n",
    "    aggfunc=[\"sum\", \"mean\"],\n",
    "    columns=['year']\n",
    ")\n",
    "print(\"\\n\\n****************\")\n",
    "print(pivot.head(5))\n",
    "print(type(pivot))\n",
    "\n",
    "print(pivot.loc[1,('mean','B',2018)])"
   ]
  },
  {
   "cell_type": "markdown",
   "metadata": {},
   "source": [
    "Both the cut and qcut functions convert columns with continuous values to categorical columns, but they apply different techniques.  \n",
    "Binning is a highly practical way to convert continuous variables into categorical ones, especially when we work with variables with lots of values.  \n",
    "A typical use case is classify price into cheap, mid and expensive depends on value range.  \n",
    "The cut function divides the entire values range into bins of equal sizes.   \n",
    "With the qcut function, the focus is on the number of values that fall into the bins. The qcut function groups the values into bins so that there is approximately the same number of values in each bin. The upper and lower bounds are adjusted accordingly. The following block of code demonstrates how the qcut function works."
   ]
  },
  {
   "cell_type": "code",
   "execution_count": 7,
   "metadata": {},
   "outputs": [
    {
     "name": "stdout",
     "output_type": "stream",
     "text": [
      "0      (2.5, 5.0]\n",
      "1    (-0.01, 2.5]\n",
      "2    (-0.01, 2.5]\n",
      "3     (7.5, 10.0]\n",
      "4      (2.5, 5.0]\n",
      "5     (7.5, 10.0]\n",
      "6      (5.0, 7.5]\n",
      "dtype: category\n",
      "Categories (4, interval[float64]): [(-0.01, 2.5] < (2.5, 5.0] < (5.0, 7.5] < (7.5, 10.0]]\n",
      "0    medium\n",
      "1     small\n",
      "2     small\n",
      "3     large\n",
      "4    medium\n",
      "5     large\n",
      "6     large\n",
      "dtype: category\n",
      "Categories (3, object): [small < medium < large]\n"
     ]
    }
   ],
   "source": [
    "A = pd.Series([5, 0, 2, 8, 4, 10, 7])\n",
    "\n",
    "# cut function. A contain value from 0 ==> 10, we cut A into 4 bins\n",
    "# so the result is 4 bins, each bin contains values from 0 to 2.5, 2.5 to 5.0, 5.0 to 7.5 and 7.5 to 10\n",
    "# then it map each value in A to the corresponding bin, lower_bound isn't inclusive, upper_bound is inclusive\n",
    "A_binned = pd.cut(A, bins=4)\n",
    "\n",
    "print(A_binned)\n",
    "\n",
    "# cut function, custom bin and label\n",
    "A_binned = pd.cut(A, bins=[-1, 3, 6, 10], labels=[\"small\",\"medium\",\"large\"])\n",
    "print(A_binned)\n"
   ]
  },
  {
   "cell_type": "code",
   "execution_count": 8,
   "metadata": {},
   "outputs": [
    {
     "name": "stdout",
     "output_type": "stream",
     "text": [
      "0     (0.999, 4.667]\n",
      "1     (0.999, 4.667]\n",
      "2     (0.999, 4.667]\n",
      "3      (6.333, 10.0]\n",
      "4     (4.667, 6.333]\n",
      "5     (4.667, 6.333]\n",
      "6      (6.333, 10.0]\n",
      "7      (6.333, 10.0]\n",
      "8     (4.667, 6.333]\n",
      "9     (0.999, 4.667]\n",
      "10    (4.667, 6.333]\n",
      "11     (6.333, 10.0]\n",
      "dtype: category\n",
      "Categories (3, interval[float64]): [(0.999, 4.667] < (4.667, 6.333] < (6.333, 10.0]]\n",
      "(6.333, 10.0]     4\n",
      "(4.667, 6.333]    4\n",
      "(0.999, 4.667]    4\n",
      "dtype: int64\n",
      "\n",
      "value count\n",
      "small     7\n",
      "large     3\n",
      "medium    2\n",
      "dtype: int64\n",
      "\n",
      "****************\n",
      "0      small\n",
      "1      small\n",
      "2      small\n",
      "3      large\n",
      "4      small\n",
      "5     medium\n",
      "6      large\n",
      "7     medium\n",
      "8      small\n",
      "9      small\n",
      "10     small\n",
      "11     large\n",
      "dtype: category\n",
      "Categories (3, object): [small < medium < large]\n"
     ]
    }
   ],
   "source": [
    "# qcut\n",
    "A = pd.Series([1, 4, 2, 10, 5, 6, 8])\n",
    "\n",
    "# The qcut function\n",
    "A = pd.Series([1, 4, 2, 10, 5, 6, 8, 7, 5, 3, 5, 9])\n",
    "\n",
    "#  three bins are created, and each bin contains four values, though they vary by width.\n",
    "A_binned = pd.qcut(A, q=3)\n",
    "print(A_binned)\n",
    "print(A_binned.value_counts())\n",
    "\n",
    "# pass q = quantile\n",
    "A_binned = pd.qcut(A, q=[0, 0.50, 0.75, 1], labels=[\"small\",\"medium\",\"large\"])\n",
    "\n",
    "print(\"\\nvalue count\")\n",
    "print(A_binned.value_counts())\n",
    "print(\"\\n****************\")\n",
    "print(A_binned)"
   ]
  },
  {
   "cell_type": "markdown",
   "metadata": {},
   "source": [
    "Where clause to update value based on condition"
   ]
  },
  {
   "cell_type": "code",
   "execution_count": 9,
   "metadata": {},
   "outputs": [
    {
     "name": "stdout",
     "output_type": "stream",
     "text": [
      "0     NaN\n",
      "1     NaN\n",
      "2     NaN\n",
      "3    10.0\n",
      "4     NaN\n",
      "5     6.0\n",
      "6     8.0\n",
      "dtype: float64\n"
     ]
    }
   ],
   "source": [
    "A = pd.Series([1, 4, 2, 10, 5, 6, 8])\n",
    "A.where(A > 5, None, inplace=True)\n",
    "print(A)"
   ]
  },
  {
   "cell_type": "markdown",
   "metadata": {},
   "source": [
    "Concat and merge\n",
    "Concat is like SQL Union, where merge is like JOIN."
   ]
  },
  {
   "cell_type": "code",
   "execution_count": 13,
   "metadata": {},
   "outputs": [
    {
     "name": "stdout",
     "output_type": "stream",
     "text": [
      "     product_code product_group  stock_qty    cost   price  last_week_sales  last_month_sales\n",
      "783           723           PG6        693  236.50  318.16               34               149\n",
      "904          2957           PG5        789    6.33   16.14               14                22\n",
      "436          8667           PG5       1204   34.10   51.29              112               532\n",
      "532            18           PG6       1964   20.90   52.24               62               302\n",
      "310          2026           PG2       2189   48.83   94.99              125               456\n"
     ]
    }
   ],
   "source": [
    "sales = pd.read_csv('sales.csv')\n",
    "print(sales.sample(5))\n",
    "\n",
    "# fill price = average price of the product_group if price is null\n",
    "sales[\"price\"] = sales[\"price\"].fillna(sales.groupby(\"product_group\")[\"price\"].transform(\"mean\"))"
   ]
  }
 ],
 "metadata": {
  "kernelspec": {
   "display_name": "base",
   "language": "python",
   "name": "python3"
  },
  "language_info": {
   "codemirror_mode": {
    "name": "ipython",
    "version": 3
   },
   "file_extension": ".py",
   "mimetype": "text/x-python",
   "name": "python",
   "nbconvert_exporter": "python",
   "pygments_lexer": "ipython3",
   "version": "3.7.4"
  }
 },
 "nbformat": 4,
 "nbformat_minor": 2
}
