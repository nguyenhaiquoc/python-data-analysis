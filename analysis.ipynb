{
 "cells": [
  {
   "cell_type": "code",
   "execution_count": 16,
   "metadata": {},
   "outputs": [],
   "source": [
    "import pandas as pd\n",
    "pd.options.display.width = 1000"
   ]
  },
  {
   "cell_type": "markdown",
   "metadata": {},
   "source": [
    "Data analysis can be defined as the process of inferring insights, discovering useful information, and drawing results from the data at hand. It’s mainly done to support a decision-making process or to explore the data before creating a machine learning model."
   ]
  },
  {
   "cell_type": "markdown",
   "metadata": {},
   "source": [
    "**GroupBY**"
   ]
  },
  {
   "cell_type": "code",
   "execution_count": 17,
   "metadata": {},
   "outputs": [
    {
     "name": "stdout",
     "output_type": "stream",
     "text": [
      "Index(['product_code', 'product_group', 'stock_qty', 'cost', 'price', 'last_week_sales', 'last_month_sales'], dtype='object')\n",
      "   product_code product_group  stock_qty    cost    price  last_week_sales  last_month_sales\n",
      "0          4187           PG2        498  420.76   569.91               13                58\n",
      "1          4195           PG2        473  545.64   712.41               16                58\n",
      "2          4204           PG2        968  640.42   854.91               22                88\n",
      "3          4219           PG2        241  869.69  1034.55               14                45\n",
      "4          4718           PG2       1401   12.54    26.59               50               285\n",
      "\n",
      "****************\n",
      "<class 'pandas.core.frame.DataFrame'>\n",
      "               product_code  stock_qty      cost     price  last_week_sales  last_month_sales\n",
      "product_group                                                                                \n",
      "PG1                  166563      25766   8016.10  11840.90             1382              4794\n",
      "PG2                  384414     160651   6150.50   9373.51             6133             23840\n",
      "PG3                  198354      95941   2233.62   3259.29             3871             14929\n",
      "PG4                 1927751     465054   6244.23  10830.65            16064             56352\n",
      "PG5                 1288510    4545082  17451.49  22209.22            21343             79125\n",
      "PG6                 1129494     720011   5856.13   9549.94            28125            102960\n",
      "8016.099999999999\n",
      "8016.099999999999\n"
     ]
    }
   ],
   "source": [
    "df = pd.read_csv('sales.csv')\n",
    "print(df.columns)\n",
    "print(df.head(5))\n",
    "\n",
    "gr= df.groupby(\"product_group\")\n",
    "print(\"\\n****************\")\n",
    "result= gr.sum()\n",
    "print(type(result))\n",
    "print(result)\n",
    "# acess cell result.loc[\"product_group\",\"column_name\"]\n",
    "print(result.loc[\"PG1\",\"cost\"])\n",
    "# using iloc\n",
    "print(result.iloc[0,2])"
   ]
  },
  {
   "cell_type": "markdown",
   "metadata": {},
   "source": [
    "Named agg"
   ]
  },
  {
   "cell_type": "code",
   "execution_count": 27,
   "metadata": {},
   "outputs": [
    {
     "name": "stdout",
     "output_type": "stream",
     "text": [
      "                   cost     price\n",
      "product_group                    \n",
      "PG1             8016.10  11840.90\n",
      "PG2             6150.50   9373.51\n",
      "PG3             2233.62   3259.29\n",
      "PG4             6244.23  10830.65\n",
      "PG5            17451.49  22209.22\n",
      "PG6             5856.13   9549.94\n",
      "\n",
      "****************\n",
      "<class 'pandas.core.frame.DataFrame'>\n",
      "               cost_sum  price_sum\n",
      "product_group                     \n",
      "PG5            17451.49   22209.22\n",
      "PG1             8016.10   11840.90\n",
      "PG4             6244.23   10830.65\n",
      "PG2             6150.50    9373.51\n",
      "PG6             5856.13    9549.94\n",
      "[17451.49000000001, 8016.099999999999, 6244.23, 6150.5, 5856.13, 2233.6199999999994]\n"
     ]
    }
   ],
   "source": [
    "print(df.groupby(\"product_group\").agg({\"cost\":\"sum\",\"price\":\"sum\"}))\n",
    "# naming the columns\n",
    "# print(df.groupby(\"product_group\").agg(cost_sum=(\"cost\",\"sum\"),price_sum=(\"price\",\"sum\")).sort_values(\"cost_sum\",ascending=False))\n",
    "\n",
    "result = df.groupby(\"product_group\").agg(cost_sum=(\"cost\",\"sum\"),price_sum=(\"price\",\"sum\")).sort_values(\"cost_sum\",ascending=False)\n",
    "print(\"\\n****************\")\n",
    "print(type(result))\n",
    "print(result.head(5))\n",
    "print(list(result[\"cost_sum\"]))\n"
   ]
  },
  {
   "cell_type": "markdown",
   "metadata": {},
   "source": [
    "Pivot Table"
   ]
  },
  {
   "cell_type": "code",
   "execution_count": 49,
   "metadata": {},
   "outputs": [
    {
     "name": "stdout",
     "output_type": "stream",
     "text": [
      "   product_code product_group  stock_qty    cost   price  last_week_sales  last_month_sales  week\n",
      "0          4187           PG2        498  420.76  569.91               13                58     1\n",
      "1          4195           PG2        473  545.64  712.41               16                58     1\n",
      "2          4204           PG2        968  640.42  854.91               22                88     1\n",
      "\n",
      "****************\n",
      "\n",
      "****************\n",
      "<class 'pandas.core.frame.DataFrame'>\n",
      "week                  1\n",
      "product_group          \n",
      "PG1             8016.10\n",
      "PG2             6150.50\n",
      "PG3             2233.62\n",
      "PG4             6244.23\n",
      "PG5            17451.49\n"
     ]
    }
   ],
   "source": [
    "print(df.head(3))\n",
    "\n",
    "print(\"\\n****************\")\n",
    "#print(df.pivot_table(index=\"product_group\",values=\"cost\",aggfunc=\"sum\").sort_values(\"cost\",ascending=False))\n",
    "\n",
    "df[\"week\"] = 1\n",
    "pivot = pd.pivot_table(\n",
    "    data=df, \n",
    "    index=\"product_group\",\n",
    "    values=\"cost\",\n",
    "    aggfunc=\"sum\",\n",
    "    columns=\"week\"\n",
    ")\n",
    "\n",
    "print(\"\\n****************\")\n",
    "print(type(pivot))\n",
    "print(pivot.head(5))\n",
    "#print(pivot.loc[\"PG1\",\"cost\"])"
   ]
  },
  {
   "cell_type": "code",
   "execution_count": 71,
   "metadata": {},
   "outputs": [
    {
     "name": "stdout",
     "output_type": "stream",
     "text": [
      "   A   B   C  year\n",
      "0  1   5   9  2018\n",
      "1  2   6  10  2018\n",
      "2  3   7  11  2019\n",
      "3  4   8  12  2019\n",
      "4  4   9  13  2018\n",
      "5  4  10  14  2019\n",
      "\n",
      "\n",
      "****************\n",
      "      sum                   mean                 \n",
      "        B           C          B          C      \n",
      "year 2018  2019  2018  2019 2018 2019  2018  2019\n",
      "A                                                \n",
      "1     5.0   NaN   9.0   NaN  5.0  NaN   9.0   NaN\n",
      "2     6.0   NaN  10.0   NaN  6.0  NaN  10.0   NaN\n",
      "3     NaN   7.0   NaN  11.0  NaN  7.0   NaN  11.0\n",
      "4     9.0  18.0  13.0  26.0  9.0  9.0  13.0  13.0\n",
      "<class 'pandas.core.frame.DataFrame'>\n",
      "5.0\n"
     ]
    }
   ],
   "source": [
    "#url = 'https://github.com/mattharrison/datasets/raw/master/data/'\\\n",
    "#      '2020-jetbrains-python-survey.csv'\n",
    "#jb = pd.read_csv(url)\n",
    "#print(jb.head(5))\n",
    "\n",
    "# create dataframe containing A, B, C and year columns\n",
    "df = pd.DataFrame({\n",
    "    'A': [1, 2, 3, 4, 4, 4],\n",
    "    'B': [5, 6, 7, 8, 9, 10],\n",
    "    'C': [9, 10, 11, 12, 13, 14],\n",
    "    'year': [2018, 2018, 2019, 2019, 2018, 2019]\n",
    "})\n",
    "\n",
    "print(df.head(10))\n",
    "\n",
    "pivot = df.pivot_table(\n",
    "    values=['B', 'C'],\n",
    "    index=['A'],\n",
    "    aggfunc=[\"sum\", \"mean\"],\n",
    "    columns=['year']\n",
    ")\n",
    "print(\"\\n\\n****************\")\n",
    "print(pivot.head(5))\n",
    "print(type(pivot))\n",
    "\n",
    "print(pivot.loc[1,('mean','B',2018)])"
   ]
  },
  {
   "cell_type": "markdown",
   "metadata": {},
   "source": [
    "Both the cut and qcut functions convert columns with continuous values to categorical columns, but they apply different techniques. "
   ]
  },
  {
   "cell_type": "code",
   "execution_count": 72,
   "metadata": {},
   "outputs": [
    {
     "name": "stdout",
     "output_type": "stream",
     "text": [
      "0      (2.5, 5.0]\n",
      "1    (-0.01, 2.5]\n",
      "2    (-0.01, 2.5]\n",
      "3     (7.5, 10.0]\n",
      "4      (2.5, 5.0]\n",
      "5     (7.5, 10.0]\n",
      "6      (5.0, 7.5]\n",
      "dtype: category\n",
      "Categories (4, interval[float64]): [(-0.01, 2.5] < (2.5, 5.0] < (5.0, 7.5] < (7.5, 10.0]]\n"
     ]
    }
   ],
   "source": [
    "A = pd.Series([5, 0, 2, 8, 4, 10, 7])\n",
    "\n",
    "# cut function. A contain value from 0 ==> 10, we cut A into 4 bins\n",
    "# so the result is 4 bins, each bin contains values from 0 to 2.5, 2.5 to 5.0, 5.0 to 7.5 and 7.5 to 10\n",
    "# then it map each value in A to the corresponding bin, lower_bound is inclusive, upper_bound is exclusive\n",
    "A_binned = pd.cut(A, bins=4)\n",
    "\n",
    "print(A_binned)\n"
   ]
  }
 ],
 "metadata": {
  "kernelspec": {
   "display_name": "base",
   "language": "python",
   "name": "python3"
  },
  "language_info": {
   "codemirror_mode": {
    "name": "ipython",
    "version": 3
   },
   "file_extension": ".py",
   "mimetype": "text/x-python",
   "name": "python",
   "nbconvert_exporter": "python",
   "pygments_lexer": "ipython3",
   "version": "3.7.4"
  }
 },
 "nbformat": 4,
 "nbformat_minor": 2
}
